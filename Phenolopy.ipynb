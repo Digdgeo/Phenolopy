{
 "cells": [
  {
   "cell_type": "markdown",
   "metadata": {},
   "source": [
    "# Phenolopy"
   ]
  },
  {
   "cell_type": "markdown",
   "metadata": {},
   "source": [
    "## Load packages"
   ]
  },
  {
   "cell_type": "markdown",
   "metadata": {},
   "source": [
    "### Set up a dask cluster"
   ]
  },
  {
   "cell_type": "code",
   "execution_count": 1,
   "metadata": {},
   "outputs": [],
   "source": [
    "%matplotlib inline\n",
    "%load_ext autoreload\n",
    "\n",
    "import os, sys\n",
    "import xarray as xr\n",
    "import numpy as np\n",
    "import pandas as pd\n",
    "import datacube\n",
    "import matplotlib.pyplot as plt\n",
    "\n",
    "from scipy.signal import savgol_filter, wiener\n",
    "from scipy.stats import zscore\n",
    "from statsmodels.tsa.seasonal import STL as stl\n",
    "from datacube.drivers.netcdf import write_dataset_to_netcdf\n",
    "\n",
    "sys.path.append('../Scripts')\n",
    "from dea_datahandling import load_ard\n",
    "from dea_dask import create_local_dask_cluster\n",
    "from dea_plotting import display_map, rgb\n",
    "\n",
    "sys.path.append('./scripts')\n",
    "import phenolopy"
   ]
  },
  {
   "cell_type": "code",
   "execution_count": 2,
   "metadata": {},
   "outputs": [
    {
     "data": {
      "text/html": [
       "<table style=\"border: 2px solid white;\">\n",
       "<tr>\n",
       "<td style=\"vertical-align: top; border: 0px solid white\">\n",
       "<h3 style=\"text-align: left;\">Client</h3>\n",
       "<ul style=\"text-align: left; list-style: none; margin: 0; padding: 0;\">\n",
       "  <li><b>Scheduler: </b>tcp://127.0.0.1:44345</li>\n",
       "  <li><b>Dashboard: </b><a href='/user/lewis/proxy/8787/status' target='_blank'>/user/lewis/proxy/8787/status</a></li>\n",
       "</ul>\n",
       "</td>\n",
       "<td style=\"vertical-align: top; border: 0px solid white\">\n",
       "<h3 style=\"text-align: left;\">Cluster</h3>\n",
       "<ul style=\"text-align: left; list-style:none; margin: 0; padding: 0;\">\n",
       "  <li><b>Workers: </b>1</li>\n",
       "  <li><b>Cores: </b>15</li>\n",
       "  <li><b>Memory: </b>125.85 GB</li>\n",
       "</ul>\n",
       "</td>\n",
       "</tr>\n",
       "</table>"
      ],
      "text/plain": [
       "<Client: 'tcp://127.0.0.1:44345' processes=1 threads=15, memory=125.85 GB>"
      ]
     },
     "metadata": {},
     "output_type": "display_data"
    }
   ],
   "source": [
    "# initialise the cluster. paste url into dask panel for more info.\n",
    "create_local_dask_cluster()"
   ]
  },
  {
   "cell_type": "code",
   "execution_count": 3,
   "metadata": {},
   "outputs": [],
   "source": [
    "# open up a datacube connection\n",
    "dc = datacube.Datacube(app='phenolopy')"
   ]
  },
  {
   "cell_type": "markdown",
   "metadata": {},
   "source": [
    "## Study area and data setup"
   ]
  },
  {
   "cell_type": "markdown",
   "metadata": {},
   "source": [
    "### Set study area and time range"
   ]
  },
  {
   "cell_type": "code",
   "execution_count": 4,
   "metadata": {},
   "outputs": [],
   "source": [
    "# set lat, lon (y, x) dictionary of testing areas for gdv project\n",
    "loc_dict = {\n",
    "    'yan_full':   (-22.750, 119.10),\n",
    "    'yan_full_1': (-22.725, 119.05),\n",
    "    'yan_full_2': (-22.775, 119.15),\n",
    "    'roy_sign_1': (-22.618, 119.989),\n",
    "    'roy_full':   (-22.555, 120.01),\n",
    "    'roy_full_1': (-22.487, 119.927),\n",
    "    'roy_full_2': (-22.487, 120.092),\n",
    "    'roy_full_3': (-22.623, 119.927),\n",
    "    'roy_full_4': (-22.623, 120.092),\n",
    "    'oph_full':   (-23.280432, 119.859309),\n",
    "    'oph_full_1': (-23.375319, 119.859309),\n",
    "    'oph_full_2': (-23.185611, 119.859309),\n",
    "    'oph_full_3': (-23.233013, 119.859309),\n",
    "    'oph_full_4': (-23.280432, 119.859309),\n",
    "    'oph_full_5': (-23.327867, 119.859309),\n",
    "    'test':       (-31.6069288, 116.9426373)\n",
    "}\n",
    "\n",
    "# set buffer length and height (x, y)\n",
    "buf_dict = {\n",
    "    'yan_full':   (0.15, 0.075),\n",
    "    'yan_full_1': (0.09, 0.025),\n",
    "    'yan_full_2': (0.05, 0.0325),\n",
    "    'roy_sign_1': (0.15, 0.21),\n",
    "    'roy_full':   (0.33, 0.27),\n",
    "    'roy_full_1': (0.165209/2, 0.135079/2),\n",
    "    'roy_full_2': (0.165209/2, 0.135079/2),\n",
    "    'roy_full_3': (0.165209/2, 0.135079/2),\n",
    "    'roy_full_4': (0.165209/2, 0.135079/2),\n",
    "    'oph_full':   (0.08, 0.11863),\n",
    "    'oph_full_1': (0.08, 0.047452/2),\n",
    "    'oph_full_2': (0.08, 0.047452/2),\n",
    "    'oph_full_3': (0.08, 0.047452/2),\n",
    "    'oph_full_4': (0.08, 0.047452/2),\n",
    "    'oph_full_5': (0.08, 0.047452/2),\n",
    "    'test':       (0.05, 0.05)\n",
    "}"
   ]
  },
  {
   "cell_type": "code",
   "execution_count": 5,
   "metadata": {},
   "outputs": [],
   "source": [
    "# select location from dict\n",
    "study_area = 'roy_full'\n",
    "\n",
    "# set buffer size in lon, lat (x, y)\n",
    "lon_buff, lat_buff = buf_dict[study_area][0], buf_dict[study_area][1]\n",
    "\n",
    "# select time range. for a specific year, set same year with month 01 to 12. multiple years will be averaged.\n",
    "time_range = ('2016-11', '2018-02')"
   ]
  },
  {
   "cell_type": "code",
   "execution_count": 6,
   "metadata": {},
   "outputs": [
    {
     "data": {
      "text/html": [
       "<div style=\"width:100%;\"><div style=\"position:relative;width:100%;height:0;padding-bottom:60%;\"><iframe src=\"data:text/html;charset=utf-8;base64,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\" style=\"position:absolute;width:100%;height:100%;left:0;top:0;border:none !important;\" allowfullscreen webkitallowfullscreen mozallowfullscreen></iframe></div></div>"
      ],
      "text/plain": [
       "<folium.folium.Map at 0x7f2e18a9a400>"
      ]
     },
     "execution_count": 6,
     "metadata": {},
     "output_type": "execute_result"
    }
   ],
   "source": [
    "# select a study area from existing dict\n",
    "lat, lon = loc_dict[study_area][0], loc_dict[study_area][1]\n",
    "\n",
    "# combine centroid with buffer to form study boundary\n",
    "lat_extent = (lat - lat_buff, lat + lat_buff)\n",
    "lon_extent = (lon - lon_buff, lon + lon_buff)\n",
    "\n",
    "# display onto interacrive map\n",
    "display_map(x=lon_extent, y=lat_extent)"
   ]
  },
  {
   "cell_type": "markdown",
   "metadata": {},
   "source": [
    "### Load sentinel-2a, b data for above parameters\n"
   ]
  },
  {
   "cell_type": "code",
   "execution_count": 7,
   "metadata": {},
   "outputs": [
    {
     "name": "stderr",
     "output_type": "stream",
     "text": [
      "../Scripts/dea_datahandling.py:238: UserWarning: Setting 'min_gooddata' percentage to > 0.0 will cause dask arrays to compute when loading pixel-quality data to calculate 'good pixel' percentage. This can slow the return of your dataset.\n",
      "  warnings.warn(\"Setting 'min_gooddata' percentage to > 0.0 \"\n"
     ]
    },
    {
     "name": "stdout",
     "output_type": "stream",
     "text": [
      "Finding datasets\n",
      "    s2a_ard_granule\n",
      "    s2b_ard_granule\n",
      "Counting good quality pixels for each time step\n",
      "Filtering to 26 out of 47 time steps with at least 90.0% good quality pixels\n",
      "Applying pixel quality/cloud mask\n",
      "Returning 26 time steps as a dask array\n",
      "<xarray.Dataset>\n",
      "Dimensions:       (time: 26, x: 7264, y: 6638)\n",
      "Coordinates:\n",
      "  * x             (x) float64 -1.257e+06 -1.257e+06 ... -1.184e+06 -1.184e+06\n",
      "    spatial_ref   int32 3577\n",
      "  * y             (y) float64 -2.453e+06 -2.453e+06 ... -2.519e+06 -2.519e+06\n",
      "  * time          (time) datetime64[ns] 2016-11-05T02:04:42.026000 ... 2018-0...\n",
      "Data variables:\n",
      "    nbart_blue    (time, y, x) float32 dask.array<chunksize=(1, 6638, 7264), meta=np.ndarray>\n",
      "    nbart_green   (time, y, x) float32 dask.array<chunksize=(1, 6638, 7264), meta=np.ndarray>\n",
      "    nbart_red     (time, y, x) float32 dask.array<chunksize=(1, 6638, 7264), meta=np.ndarray>\n",
      "    nbart_nir_1   (time, y, x) float32 dask.array<chunksize=(1, 6638, 7264), meta=np.ndarray>\n",
      "    nbart_swir_2  (time, y, x) float32 dask.array<chunksize=(1, 6638, 7264), meta=np.ndarray>\n",
      "Attributes:\n",
      "    crs:           EPSG:3577\n",
      "    grid_mapping:  spatial_ref\n"
     ]
    }
   ],
   "source": [
    "# set measurements (bands)\n",
    "measurements = [\n",
    "    'nbart_blue',\n",
    "    'nbart_green',\n",
    "    'nbart_red',\n",
    "    'nbart_nir_1',\n",
    "    'nbart_swir_2'\n",
    "]\n",
    "\n",
    "# create query from above and expected info\n",
    "query = {\n",
    "    'x': lon_extent,\n",
    "    'y': lat_extent,\n",
    "    'time': time_range,\n",
    "    'measurements': measurements,\n",
    "    'output_crs': 'EPSG:3577',\n",
    "    'resolution': (-10, 10),\n",
    "    'group_by': 'solar_day',\n",
    "}\n",
    "\n",
    "# load sentinel 2 data\n",
    "ds = load_ard(\n",
    "    dc=dc,\n",
    "    products=['s2a_ard_granule', 's2b_ard_granule'],\n",
    "    min_gooddata=0.90,\n",
    "    dask_chunks={'time': 1},\n",
    "    **query\n",
    ")\n",
    "\n",
    "# display dataset\n",
    "print(ds)\n",
    "\n",
    "# display a rgb data result of temporary resampled median \n",
    "#rgb(ds.resample(time='1M').median(), bands=['nbart_red', 'nbart_green', 'nbart_blue'], col='time', col_wrap=12)"
   ]
  },
  {
   "cell_type": "markdown",
   "metadata": {},
   "source": [
    "### Conform DEA band names"
   ]
  },
  {
   "cell_type": "code",
   "execution_count": 8,
   "metadata": {},
   "outputs": [
    {
     "name": "stdout",
     "output_type": "stream",
     "text": [
      "Conforming satellite bands\n",
      "> Satellite band names conformed successfully.\n",
      "\n",
      "<xarray.Dataset>\n",
      "Dimensions:      (time: 26, x: 7264, y: 6638)\n",
      "Coordinates:\n",
      "  * x            (x) float64 -1.257e+06 -1.257e+06 ... -1.184e+06 -1.184e+06\n",
      "    spatial_ref  int32 3577\n",
      "  * y            (y) float64 -2.453e+06 -2.453e+06 ... -2.519e+06 -2.519e+06\n",
      "  * time         (time) datetime64[ns] 2016-11-05T02:04:42.026000 ... 2018-02...\n",
      "Data variables:\n",
      "    blue         (time, y, x) float32 dask.array<chunksize=(1, 6638, 7264), meta=np.ndarray>\n",
      "    green        (time, y, x) float32 dask.array<chunksize=(1, 6638, 7264), meta=np.ndarray>\n",
      "    red          (time, y, x) float32 dask.array<chunksize=(1, 6638, 7264), meta=np.ndarray>\n",
      "    nir          (time, y, x) float32 dask.array<chunksize=(1, 6638, 7264), meta=np.ndarray>\n",
      "    swir1        (time, y, x) float32 dask.array<chunksize=(1, 6638, 7264), meta=np.ndarray>\n",
      "Attributes:\n",
      "    crs:           EPSG:3577\n",
      "    grid_mapping:  spatial_ref\n"
     ]
    }
   ],
   "source": [
    "# takes our dask ds and conforms (renames) bands\n",
    "ds = phenolopy.conform_dea_band_names(ds)\n",
    "\n",
    "# display dataset\n",
    "print(ds)"
   ]
  },
  {
   "cell_type": "markdown",
   "metadata": {},
   "source": [
    "### Calculate vegetation index"
   ]
  },
  {
   "cell_type": "code",
   "execution_count": 9,
   "metadata": {},
   "outputs": [
    {
     "name": "stdout",
     "output_type": "stream",
     "text": [
      "Generating vegetation index: mavi\n",
      "> Drop bands set to True. Dropping these bands: ['blue', 'green', 'red', 'nir', 'swir1']\n",
      "> Vegetation index calculated successfully.\n",
      "\n",
      "<xarray.Dataset>\n",
      "Dimensions:      (time: 26, x: 7264, y: 6638)\n",
      "Coordinates:\n",
      "  * x            (x) float64 -1.257e+06 -1.257e+06 ... -1.184e+06 -1.184e+06\n",
      "    spatial_ref  int32 3577\n",
      "  * y            (y) float64 -2.453e+06 -2.453e+06 ... -2.519e+06 -2.519e+06\n",
      "  * time         (time) datetime64[ns] 2016-11-05T02:04:42.026000 ... 2018-02...\n",
      "Data variables:\n",
      "    veg_index    (time, y, x) float32 dask.array<chunksize=(1, 6638, 7264), meta=np.ndarray>\n",
      "Attributes:\n",
      "    crs:           EPSG:3577\n",
      "    grid_mapping:  spatial_ref\n"
     ]
    }
   ],
   "source": [
    "# takes our dask ds and calculates veg index from spectral bands\n",
    "ds = phenolopy.calc_vege_index(ds, index='mavi', drop=True)\n",
    "\n",
    "# display dataset\n",
    "print(ds)"
   ]
  },
  {
   "cell_type": "markdown",
   "metadata": {},
   "source": [
    "## Pre-processing phase"
   ]
  },
  {
   "cell_type": "markdown",
   "metadata": {},
   "source": [
    "### Temporary - load MODIS dataset"
   ]
  },
  {
   "cell_type": "code",
   "execution_count": null,
   "metadata": {},
   "outputs": [],
   "source": [
    "#ds = phenolopy.load_test_dataset(data_path='./data/')"
   ]
  },
  {
   "cell_type": "code",
   "execution_count": 10,
   "metadata": {},
   "outputs": [
    {
     "name": "stdout",
     "output_type": "stream",
     "text": [
      "Resampling dataset interval: 1M via reducer: median\n",
      "> Warning: dataset contains nan values. You should interpolate nan values next.\n",
      "> Resample successful.\n",
      "\n"
     ]
    }
   ],
   "source": [
    "# resample to bimonth\n",
    "ds = phenolopy.resample(ds, interval='1M', reducer='median')"
   ]
  },
  {
   "cell_type": "code",
   "execution_count": 11,
   "metadata": {},
   "outputs": [
    {
     "name": "stdout",
     "output_type": "stream",
     "text": [
      "Interpolating dataset using method: interpolate_na.\n",
      "> Warning: dataset still contains nan values. The first and/or last time slices may be empty.\n",
      "> Interpolation successful.\n",
      "\n"
     ]
    }
   ],
   "source": [
    "# interp\n",
    "ds = ds.chunk({'time': -1})\n",
    "ds = phenolopy.interpolate(ds=ds, method='interpolate_na')"
   ]
  },
  {
   "cell_type": "code",
   "execution_count": 12,
   "metadata": {},
   "outputs": [],
   "source": [
    "# drop years\n",
    "ds = ds.where(ds['time.year'] == 2017, drop=True)"
   ]
  },
  {
   "cell_type": "markdown",
   "metadata": {},
   "source": [
    "### Group data by month and reduce by median"
   ]
  },
  {
   "cell_type": "code",
   "execution_count": 13,
   "metadata": {},
   "outputs": [
    {
     "name": "stdout",
     "output_type": "stream",
     "text": [
      "Group dataset interval: month via reducer: median\n",
      "> Selecting year: 2017 to re-label times after groupby.\n",
      "> Warning: dataset contains nan values. You should interpolate nan values next.\n",
      "> Group successful.\n",
      "\n",
      "<xarray.Dataset>\n",
      "Dimensions:      (time: 12, x: 7264, y: 6638)\n",
      "Coordinates:\n",
      "    spatial_ref  int32 3577\n",
      "  * x            (x) float64 -1.257e+06 -1.257e+06 ... -1.184e+06 -1.184e+06\n",
      "  * y            (y) float64 -2.453e+06 -2.453e+06 ... -2.519e+06 -2.519e+06\n",
      "  * time         (time) datetime64[ns] 2017-01-01 2017-02-01 ... 2017-12-01\n",
      "Data variables:\n",
      "    veg_index    (time, y, x) float64 dask.array<chunksize=(1, 3319, 1816), meta=np.ndarray>\n"
     ]
    }
   ],
   "source": [
    "# take our dask ds and group and reduce dataset in median weeks (26 for one year)\n",
    "ds = phenolopy.group(ds, group_by='month', reducer='median')\n",
    "\n",
    "# display dataset\n",
    "print(ds)"
   ]
  },
  {
   "cell_type": "code",
   "execution_count": 14,
   "metadata": {},
   "outputs": [],
   "source": [
    "# show times\n",
    "ds = ds.compute()"
   ]
  },
  {
   "cell_type": "markdown",
   "metadata": {},
   "source": [
    "### Remove outliers from dataset on per-pixel basis"
   ]
  },
  {
   "cell_type": "code",
   "execution_count": 15,
   "metadata": {},
   "outputs": [
    {
     "name": "stdout",
     "output_type": "stream",
     "text": [
      "Outlier removal method: median with a user factor of: 2\n",
      "> Generated roll window size less than 3, setting to default (3).\n",
      "> Warning: dataset contains nan values. You may want to interpolate next.\n",
      "> Outlier removal successful.\n",
      "\n",
      "<xarray.Dataset>\n",
      "Dimensions:      (time: 12, x: 7264, y: 6638)\n",
      "Coordinates:\n",
      "    spatial_ref  int32 3577\n",
      "  * x            (x) float64 -1.257e+06 -1.257e+06 ... -1.184e+06 -1.184e+06\n",
      "  * y            (y) float64 -2.453e+06 -2.453e+06 ... -2.519e+06 -2.519e+06\n",
      "  * time         (time) datetime64[ns] 2017-01-01 2017-02-01 ... 2017-12-01\n",
      "Data variables:\n",
      "    veg_index    (time, y, x) float32 dask.array<chunksize=(3, 2051, 1816), meta=np.ndarray>\n"
     ]
    }
   ],
   "source": [
    "# chunk dask to -1 to make compatible with this function\n",
    "ds = ds.chunk({'time': -1})\n",
    "\n",
    "# takes our dask ds and remove outliers from data using median method\n",
    "ds = phenolopy.remove_outliers(ds=ds, method='median', user_factor=2, z_pval=0.05)\n",
    "\n",
    "# display dataset\n",
    "print(ds)"
   ]
  },
  {
   "cell_type": "markdown",
   "metadata": {},
   "source": [
    "### Resample dataset down to bi-monthly medians"
   ]
  },
  {
   "cell_type": "code",
   "execution_count": 16,
   "metadata": {},
   "outputs": [
    {
     "name": "stdout",
     "output_type": "stream",
     "text": [
      "Resampling dataset interval: 1W via reducer: median\n",
      "> Warning: dataset contains nan values. You should interpolate nan values next.\n",
      "> Resample successful.\n",
      "\n",
      "<xarray.Dataset>\n",
      "Dimensions:      (time: 49, x: 7264, y: 6638)\n",
      "Coordinates:\n",
      "  * time         (time) datetime64[ns] 2017-01-01 2017-01-08 ... 2017-12-03\n",
      "    spatial_ref  int32 3577\n",
      "  * x            (x) float64 -1.257e+06 -1.257e+06 ... -1.184e+06 -1.184e+06\n",
      "  * y            (y) float64 -2.453e+06 -2.453e+06 ... -2.519e+06 -2.519e+06\n",
      "Data variables:\n",
      "    veg_index    (time, y, x) float32 dask.array<chunksize=(5, 6153, 5448), meta=np.ndarray>\n"
     ]
    }
   ],
   "source": [
    "# takes our dask ds and resamples data to bi-monthly medians\n",
    "ds = phenolopy.resample(ds, interval='1W', reducer='median')\n",
    "\n",
    "# display dataset\n",
    "print(ds)"
   ]
  },
  {
   "cell_type": "code",
   "execution_count": 17,
   "metadata": {},
   "outputs": [
    {
     "data": {
      "text/html": [
       "<div><svg style=\"position: absolute; width: 0; height: 0; overflow: hidden\">\n",
       "<defs>\n",
       "<symbol id=\"icon-database\" viewBox=\"0 0 32 32\">\n",
       "<path d=\"M16 0c-8.837 0-16 2.239-16 5v4c0 2.761 7.163 5 16 5s16-2.239 16-5v-4c0-2.761-7.163-5-16-5z\"></path>\n",
       "<path d=\"M16 17c-8.837 0-16-2.239-16-5v6c0 2.761 7.163 5 16 5s16-2.239 16-5v-6c0 2.761-7.163 5-16 5z\"></path>\n",
       "<path d=\"M16 26c-8.837 0-16-2.239-16-5v6c0 2.761 7.163 5 16 5s16-2.239 16-5v-6c0 2.761-7.163 5-16 5z\"></path>\n",
       "</symbol>\n",
       "<symbol id=\"icon-file-text2\" viewBox=\"0 0 32 32\">\n",
       "<path d=\"M28.681 7.159c-0.694-0.947-1.662-2.053-2.724-3.116s-2.169-2.030-3.116-2.724c-1.612-1.182-2.393-1.319-2.841-1.319h-15.5c-1.378 0-2.5 1.121-2.5 2.5v27c0 1.378 1.122 2.5 2.5 2.5h23c1.378 0 2.5-1.122 2.5-2.5v-19.5c0-0.448-0.137-1.23-1.319-2.841zM24.543 5.457c0.959 0.959 1.712 1.825 2.268 2.543h-4.811v-4.811c0.718 0.556 1.584 1.309 2.543 2.268zM28 29.5c0 0.271-0.229 0.5-0.5 0.5h-23c-0.271 0-0.5-0.229-0.5-0.5v-27c0-0.271 0.229-0.5 0.5-0.5 0 0 15.499-0 15.5 0v7c0 0.552 0.448 1 1 1h7v19.5z\"></path>\n",
       "<path d=\"M23 26h-14c-0.552 0-1-0.448-1-1s0.448-1 1-1h14c0.552 0 1 0.448 1 1s-0.448 1-1 1z\"></path>\n",
       "<path d=\"M23 22h-14c-0.552 0-1-0.448-1-1s0.448-1 1-1h14c0.552 0 1 0.448 1 1s-0.448 1-1 1z\"></path>\n",
       "<path d=\"M23 18h-14c-0.552 0-1-0.448-1-1s0.448-1 1-1h14c0.552 0 1 0.448 1 1s-0.448 1-1 1z\"></path>\n",
       "</symbol>\n",
       "</defs>\n",
       "</svg>\n",
       "<style>/* CSS stylesheet for displaying xarray objects in jupyterlab.\n",
       " *\n",
       " */\n",
       "\n",
       ":root {\n",
       "  --xr-font-color0: var(--jp-content-font-color0, rgba(0, 0, 0, 1));\n",
       "  --xr-font-color2: var(--jp-content-font-color2, rgba(0, 0, 0, 0.54));\n",
       "  --xr-font-color3: var(--jp-content-font-color3, rgba(0, 0, 0, 0.38));\n",
       "  --xr-border-color: var(--jp-border-color2, #e0e0e0);\n",
       "  --xr-disabled-color: var(--jp-layout-color3, #bdbdbd);\n",
       "  --xr-background-color: var(--jp-layout-color0, white);\n",
       "  --xr-background-color-row-even: var(--jp-layout-color1, white);\n",
       "  --xr-background-color-row-odd: var(--jp-layout-color2, #eeeeee);\n",
       "}\n",
       "\n",
       "html[theme=dark],\n",
       "body.vscode-dark {\n",
       "  --xr-font-color0: rgba(255, 255, 255, 1);\n",
       "  --xr-font-color2: rgba(255, 255, 255, 0.54);\n",
       "  --xr-font-color3: rgba(255, 255, 255, 0.38);\n",
       "  --xr-border-color: #1F1F1F;\n",
       "  --xr-disabled-color: #515151;\n",
       "  --xr-background-color: #111111;\n",
       "  --xr-background-color-row-even: #111111;\n",
       "  --xr-background-color-row-odd: #313131;\n",
       "}\n",
       "\n",
       ".xr-wrap {\n",
       "  display: block;\n",
       "  min-width: 300px;\n",
       "  max-width: 700px;\n",
       "}\n",
       "\n",
       ".xr-text-repr-fallback {\n",
       "  /* fallback to plain text repr when CSS is not injected (untrusted notebook) */\n",
       "  display: none;\n",
       "}\n",
       "\n",
       ".xr-header {\n",
       "  padding-top: 6px;\n",
       "  padding-bottom: 6px;\n",
       "  margin-bottom: 4px;\n",
       "  border-bottom: solid 1px var(--xr-border-color);\n",
       "}\n",
       "\n",
       ".xr-header > div,\n",
       ".xr-header > ul {\n",
       "  display: inline;\n",
       "  margin-top: 0;\n",
       "  margin-bottom: 0;\n",
       "}\n",
       "\n",
       ".xr-obj-type,\n",
       ".xr-array-name {\n",
       "  margin-left: 2px;\n",
       "  margin-right: 10px;\n",
       "}\n",
       "\n",
       ".xr-obj-type {\n",
       "  color: var(--xr-font-color2);\n",
       "}\n",
       "\n",
       ".xr-sections {\n",
       "  padding-left: 0 !important;\n",
       "  display: grid;\n",
       "  grid-template-columns: 150px auto auto 1fr 20px 20px;\n",
       "}\n",
       "\n",
       ".xr-section-item {\n",
       "  display: contents;\n",
       "}\n",
       "\n",
       ".xr-section-item input {\n",
       "  display: none;\n",
       "}\n",
       "\n",
       ".xr-section-item input + label {\n",
       "  color: var(--xr-disabled-color);\n",
       "}\n",
       "\n",
       ".xr-section-item input:enabled + label {\n",
       "  cursor: pointer;\n",
       "  color: var(--xr-font-color2);\n",
       "}\n",
       "\n",
       ".xr-section-item input:enabled + label:hover {\n",
       "  color: var(--xr-font-color0);\n",
       "}\n",
       "\n",
       ".xr-section-summary {\n",
       "  grid-column: 1;\n",
       "  color: var(--xr-font-color2);\n",
       "  font-weight: 500;\n",
       "}\n",
       "\n",
       ".xr-section-summary > span {\n",
       "  display: inline-block;\n",
       "  padding-left: 0.5em;\n",
       "}\n",
       "\n",
       ".xr-section-summary-in:disabled + label {\n",
       "  color: var(--xr-font-color2);\n",
       "}\n",
       "\n",
       ".xr-section-summary-in + label:before {\n",
       "  display: inline-block;\n",
       "  content: '►';\n",
       "  font-size: 11px;\n",
       "  width: 15px;\n",
       "  text-align: center;\n",
       "}\n",
       "\n",
       ".xr-section-summary-in:disabled + label:before {\n",
       "  color: var(--xr-disabled-color);\n",
       "}\n",
       "\n",
       ".xr-section-summary-in:checked + label:before {\n",
       "  content: '▼';\n",
       "}\n",
       "\n",
       ".xr-section-summary-in:checked + label > span {\n",
       "  display: none;\n",
       "}\n",
       "\n",
       ".xr-section-summary,\n",
       ".xr-section-inline-details {\n",
       "  padding-top: 4px;\n",
       "  padding-bottom: 4px;\n",
       "}\n",
       "\n",
       ".xr-section-inline-details {\n",
       "  grid-column: 2 / -1;\n",
       "}\n",
       "\n",
       ".xr-section-details {\n",
       "  display: none;\n",
       "  grid-column: 1 / -1;\n",
       "  margin-bottom: 5px;\n",
       "}\n",
       "\n",
       ".xr-section-summary-in:checked ~ .xr-section-details {\n",
       "  display: contents;\n",
       "}\n",
       "\n",
       ".xr-array-wrap {\n",
       "  grid-column: 1 / -1;\n",
       "  display: grid;\n",
       "  grid-template-columns: 20px auto;\n",
       "}\n",
       "\n",
       ".xr-array-wrap > label {\n",
       "  grid-column: 1;\n",
       "  vertical-align: top;\n",
       "}\n",
       "\n",
       ".xr-preview {\n",
       "  color: var(--xr-font-color3);\n",
       "}\n",
       "\n",
       ".xr-array-preview,\n",
       ".xr-array-data {\n",
       "  padding: 0 5px !important;\n",
       "  grid-column: 2;\n",
       "}\n",
       "\n",
       ".xr-array-data,\n",
       ".xr-array-in:checked ~ .xr-array-preview {\n",
       "  display: none;\n",
       "}\n",
       "\n",
       ".xr-array-in:checked ~ .xr-array-data,\n",
       ".xr-array-preview {\n",
       "  display: inline-block;\n",
       "}\n",
       "\n",
       ".xr-dim-list {\n",
       "  display: inline-block !important;\n",
       "  list-style: none;\n",
       "  padding: 0 !important;\n",
       "  margin: 0;\n",
       "}\n",
       "\n",
       ".xr-dim-list li {\n",
       "  display: inline-block;\n",
       "  padding: 0;\n",
       "  margin: 0;\n",
       "}\n",
       "\n",
       ".xr-dim-list:before {\n",
       "  content: '(';\n",
       "}\n",
       "\n",
       ".xr-dim-list:after {\n",
       "  content: ')';\n",
       "}\n",
       "\n",
       ".xr-dim-list li:not(:last-child):after {\n",
       "  content: ',';\n",
       "  padding-right: 5px;\n",
       "}\n",
       "\n",
       ".xr-has-index {\n",
       "  font-weight: bold;\n",
       "}\n",
       "\n",
       ".xr-var-list,\n",
       ".xr-var-item {\n",
       "  display: contents;\n",
       "}\n",
       "\n",
       ".xr-var-item > div,\n",
       ".xr-var-item label,\n",
       ".xr-var-item > .xr-var-name span {\n",
       "  background-color: var(--xr-background-color-row-even);\n",
       "  margin-bottom: 0;\n",
       "}\n",
       "\n",
       ".xr-var-item > .xr-var-name:hover span {\n",
       "  padding-right: 5px;\n",
       "}\n",
       "\n",
       ".xr-var-list > li:nth-child(odd) > div,\n",
       ".xr-var-list > li:nth-child(odd) > label,\n",
       ".xr-var-list > li:nth-child(odd) > .xr-var-name span {\n",
       "  background-color: var(--xr-background-color-row-odd);\n",
       "}\n",
       "\n",
       ".xr-var-name {\n",
       "  grid-column: 1;\n",
       "}\n",
       "\n",
       ".xr-var-dims {\n",
       "  grid-column: 2;\n",
       "}\n",
       "\n",
       ".xr-var-dtype {\n",
       "  grid-column: 3;\n",
       "  text-align: right;\n",
       "  color: var(--xr-font-color2);\n",
       "}\n",
       "\n",
       ".xr-var-preview {\n",
       "  grid-column: 4;\n",
       "}\n",
       "\n",
       ".xr-var-name,\n",
       ".xr-var-dims,\n",
       ".xr-var-dtype,\n",
       ".xr-preview,\n",
       ".xr-attrs dt {\n",
       "  white-space: nowrap;\n",
       "  overflow: hidden;\n",
       "  text-overflow: ellipsis;\n",
       "  padding-right: 10px;\n",
       "}\n",
       "\n",
       ".xr-var-name:hover,\n",
       ".xr-var-dims:hover,\n",
       ".xr-var-dtype:hover,\n",
       ".xr-attrs dt:hover {\n",
       "  overflow: visible;\n",
       "  width: auto;\n",
       "  z-index: 1;\n",
       "}\n",
       "\n",
       ".xr-var-attrs,\n",
       ".xr-var-data {\n",
       "  display: none;\n",
       "  background-color: var(--xr-background-color) !important;\n",
       "  padding-bottom: 5px !important;\n",
       "}\n",
       "\n",
       ".xr-var-attrs-in:checked ~ .xr-var-attrs,\n",
       ".xr-var-data-in:checked ~ .xr-var-data {\n",
       "  display: block;\n",
       "}\n",
       "\n",
       ".xr-var-data > table {\n",
       "  float: right;\n",
       "}\n",
       "\n",
       ".xr-var-name span,\n",
       ".xr-var-data,\n",
       ".xr-attrs {\n",
       "  padding-left: 25px !important;\n",
       "}\n",
       "\n",
       ".xr-attrs,\n",
       ".xr-var-attrs,\n",
       ".xr-var-data {\n",
       "  grid-column: 1 / -1;\n",
       "}\n",
       "\n",
       "dl.xr-attrs {\n",
       "  padding: 0;\n",
       "  margin: 0;\n",
       "  display: grid;\n",
       "  grid-template-columns: 125px auto;\n",
       "}\n",
       "\n",
       ".xr-attrs dt, dd {\n",
       "  padding: 0;\n",
       "  margin: 0;\n",
       "  float: left;\n",
       "  padding-right: 10px;\n",
       "  width: auto;\n",
       "}\n",
       "\n",
       ".xr-attrs dt {\n",
       "  font-weight: normal;\n",
       "  grid-column: 1;\n",
       "}\n",
       "\n",
       ".xr-attrs dt:hover span {\n",
       "  display: inline-block;\n",
       "  background: var(--xr-background-color);\n",
       "  padding-right: 10px;\n",
       "}\n",
       "\n",
       ".xr-attrs dd {\n",
       "  grid-column: 2;\n",
       "  white-space: pre-wrap;\n",
       "  word-break: break-all;\n",
       "}\n",
       "\n",
       ".xr-icon-database,\n",
       ".xr-icon-file-text2 {\n",
       "  display: inline-block;\n",
       "  vertical-align: middle;\n",
       "  width: 1em;\n",
       "  height: 1.5em !important;\n",
       "  stroke-width: 0;\n",
       "  stroke: currentColor;\n",
       "  fill: currentColor;\n",
       "}\n",
       "</style><pre class='xr-text-repr-fallback'>&lt;xarray.DataArray &#x27;time&#x27; (time: 49)&gt;\n",
       "array([&#x27;2017-01-01T00:00:00.000000000&#x27;, &#x27;2017-01-08T00:00:00.000000000&#x27;,\n",
       "       &#x27;2017-01-15T00:00:00.000000000&#x27;, &#x27;2017-01-22T00:00:00.000000000&#x27;,\n",
       "       &#x27;2017-01-29T00:00:00.000000000&#x27;, &#x27;2017-02-05T00:00:00.000000000&#x27;,\n",
       "       &#x27;2017-02-12T00:00:00.000000000&#x27;, &#x27;2017-02-19T00:00:00.000000000&#x27;,\n",
       "       &#x27;2017-02-26T00:00:00.000000000&#x27;, &#x27;2017-03-05T00:00:00.000000000&#x27;,\n",
       "       &#x27;2017-03-12T00:00:00.000000000&#x27;, &#x27;2017-03-19T00:00:00.000000000&#x27;,\n",
       "       &#x27;2017-03-26T00:00:00.000000000&#x27;, &#x27;2017-04-02T00:00:00.000000000&#x27;,\n",
       "       &#x27;2017-04-09T00:00:00.000000000&#x27;, &#x27;2017-04-16T00:00:00.000000000&#x27;,\n",
       "       &#x27;2017-04-23T00:00:00.000000000&#x27;, &#x27;2017-04-30T00:00:00.000000000&#x27;,\n",
       "       &#x27;2017-05-07T00:00:00.000000000&#x27;, &#x27;2017-05-14T00:00:00.000000000&#x27;,\n",
       "       &#x27;2017-05-21T00:00:00.000000000&#x27;, &#x27;2017-05-28T00:00:00.000000000&#x27;,\n",
       "       &#x27;2017-06-04T00:00:00.000000000&#x27;, &#x27;2017-06-11T00:00:00.000000000&#x27;,\n",
       "       &#x27;2017-06-18T00:00:00.000000000&#x27;, &#x27;2017-06-25T00:00:00.000000000&#x27;,\n",
       "       &#x27;2017-07-02T00:00:00.000000000&#x27;, &#x27;2017-07-09T00:00:00.000000000&#x27;,\n",
       "       &#x27;2017-07-16T00:00:00.000000000&#x27;, &#x27;2017-07-23T00:00:00.000000000&#x27;,\n",
       "       &#x27;2017-07-30T00:00:00.000000000&#x27;, &#x27;2017-08-06T00:00:00.000000000&#x27;,\n",
       "       &#x27;2017-08-13T00:00:00.000000000&#x27;, &#x27;2017-08-20T00:00:00.000000000&#x27;,\n",
       "       &#x27;2017-08-27T00:00:00.000000000&#x27;, &#x27;2017-09-03T00:00:00.000000000&#x27;,\n",
       "       &#x27;2017-09-10T00:00:00.000000000&#x27;, &#x27;2017-09-17T00:00:00.000000000&#x27;,\n",
       "       &#x27;2017-09-24T00:00:00.000000000&#x27;, &#x27;2017-10-01T00:00:00.000000000&#x27;,\n",
       "       &#x27;2017-10-08T00:00:00.000000000&#x27;, &#x27;2017-10-15T00:00:00.000000000&#x27;,\n",
       "       &#x27;2017-10-22T00:00:00.000000000&#x27;, &#x27;2017-10-29T00:00:00.000000000&#x27;,\n",
       "       &#x27;2017-11-05T00:00:00.000000000&#x27;, &#x27;2017-11-12T00:00:00.000000000&#x27;,\n",
       "       &#x27;2017-11-19T00:00:00.000000000&#x27;, &#x27;2017-11-26T00:00:00.000000000&#x27;,\n",
       "       &#x27;2017-12-03T00:00:00.000000000&#x27;], dtype=&#x27;datetime64[ns]&#x27;)\n",
       "Coordinates:\n",
       "  * time         (time) datetime64[ns] 2017-01-01 2017-01-08 ... 2017-12-03\n",
       "    spatial_ref  int32 3577</pre><div class='xr-wrap' hidden><div class='xr-header'><div class='xr-obj-type'>xarray.DataArray</div><div class='xr-array-name'>'time'</div><ul class='xr-dim-list'><li><span class='xr-has-index'>time</span>: 49</li></ul></div><ul class='xr-sections'><li class='xr-section-item'><div class='xr-array-wrap'><input id='section-67bdd15f-ccb8-4da5-aa68-2b2b096048dc' class='xr-array-in' type='checkbox' checked><label for='section-67bdd15f-ccb8-4da5-aa68-2b2b096048dc' title='Show/hide data repr'><svg class='icon xr-icon-database'><use xlink:href='#icon-database'></use></svg></label><div class='xr-array-preview xr-preview'><span>2017-01-01 2017-01-08 2017-01-15 ... 2017-11-19 2017-11-26 2017-12-03</span></div><div class='xr-array-data'><pre>array([&#x27;2017-01-01T00:00:00.000000000&#x27;, &#x27;2017-01-08T00:00:00.000000000&#x27;,\n",
       "       &#x27;2017-01-15T00:00:00.000000000&#x27;, &#x27;2017-01-22T00:00:00.000000000&#x27;,\n",
       "       &#x27;2017-01-29T00:00:00.000000000&#x27;, &#x27;2017-02-05T00:00:00.000000000&#x27;,\n",
       "       &#x27;2017-02-12T00:00:00.000000000&#x27;, &#x27;2017-02-19T00:00:00.000000000&#x27;,\n",
       "       &#x27;2017-02-26T00:00:00.000000000&#x27;, &#x27;2017-03-05T00:00:00.000000000&#x27;,\n",
       "       &#x27;2017-03-12T00:00:00.000000000&#x27;, &#x27;2017-03-19T00:00:00.000000000&#x27;,\n",
       "       &#x27;2017-03-26T00:00:00.000000000&#x27;, &#x27;2017-04-02T00:00:00.000000000&#x27;,\n",
       "       &#x27;2017-04-09T00:00:00.000000000&#x27;, &#x27;2017-04-16T00:00:00.000000000&#x27;,\n",
       "       &#x27;2017-04-23T00:00:00.000000000&#x27;, &#x27;2017-04-30T00:00:00.000000000&#x27;,\n",
       "       &#x27;2017-05-07T00:00:00.000000000&#x27;, &#x27;2017-05-14T00:00:00.000000000&#x27;,\n",
       "       &#x27;2017-05-21T00:00:00.000000000&#x27;, &#x27;2017-05-28T00:00:00.000000000&#x27;,\n",
       "       &#x27;2017-06-04T00:00:00.000000000&#x27;, &#x27;2017-06-11T00:00:00.000000000&#x27;,\n",
       "       &#x27;2017-06-18T00:00:00.000000000&#x27;, &#x27;2017-06-25T00:00:00.000000000&#x27;,\n",
       "       &#x27;2017-07-02T00:00:00.000000000&#x27;, &#x27;2017-07-09T00:00:00.000000000&#x27;,\n",
       "       &#x27;2017-07-16T00:00:00.000000000&#x27;, &#x27;2017-07-23T00:00:00.000000000&#x27;,\n",
       "       &#x27;2017-07-30T00:00:00.000000000&#x27;, &#x27;2017-08-06T00:00:00.000000000&#x27;,\n",
       "       &#x27;2017-08-13T00:00:00.000000000&#x27;, &#x27;2017-08-20T00:00:00.000000000&#x27;,\n",
       "       &#x27;2017-08-27T00:00:00.000000000&#x27;, &#x27;2017-09-03T00:00:00.000000000&#x27;,\n",
       "       &#x27;2017-09-10T00:00:00.000000000&#x27;, &#x27;2017-09-17T00:00:00.000000000&#x27;,\n",
       "       &#x27;2017-09-24T00:00:00.000000000&#x27;, &#x27;2017-10-01T00:00:00.000000000&#x27;,\n",
       "       &#x27;2017-10-08T00:00:00.000000000&#x27;, &#x27;2017-10-15T00:00:00.000000000&#x27;,\n",
       "       &#x27;2017-10-22T00:00:00.000000000&#x27;, &#x27;2017-10-29T00:00:00.000000000&#x27;,\n",
       "       &#x27;2017-11-05T00:00:00.000000000&#x27;, &#x27;2017-11-12T00:00:00.000000000&#x27;,\n",
       "       &#x27;2017-11-19T00:00:00.000000000&#x27;, &#x27;2017-11-26T00:00:00.000000000&#x27;,\n",
       "       &#x27;2017-12-03T00:00:00.000000000&#x27;], dtype=&#x27;datetime64[ns]&#x27;)</pre></div></div></li><li class='xr-section-item'><input id='section-f6053175-f37b-461b-b5d9-24b84139aa56' class='xr-section-summary-in' type='checkbox'  checked><label for='section-f6053175-f37b-461b-b5d9-24b84139aa56' class='xr-section-summary' >Coordinates: <span>(2)</span></label><div class='xr-section-inline-details'></div><div class='xr-section-details'><ul class='xr-var-list'><li class='xr-var-item'><div class='xr-var-name'><span class='xr-has-index'>time</span></div><div class='xr-var-dims'>(time)</div><div class='xr-var-dtype'>datetime64[ns]</div><div class='xr-var-preview xr-preview'>2017-01-01 ... 2017-12-03</div><input id='attrs-5976d29a-220a-4679-b604-ac604533a033' class='xr-var-attrs-in' type='checkbox' disabled><label for='attrs-5976d29a-220a-4679-b604-ac604533a033' title='Show/Hide attributes'><svg class='icon xr-icon-file-text2'><use xlink:href='#icon-file-text2'></use></svg></label><input id='data-9fc71d72-4f90-44a2-8d6b-19e788a82294' class='xr-var-data-in' type='checkbox'><label for='data-9fc71d72-4f90-44a2-8d6b-19e788a82294' title='Show/Hide data repr'><svg class='icon xr-icon-database'><use xlink:href='#icon-database'></use></svg></label><div class='xr-var-attrs'><dl class='xr-attrs'></dl></div><div class='xr-var-data'><pre>array([&#x27;2017-01-01T00:00:00.000000000&#x27;, &#x27;2017-01-08T00:00:00.000000000&#x27;,\n",
       "       &#x27;2017-01-15T00:00:00.000000000&#x27;, &#x27;2017-01-22T00:00:00.000000000&#x27;,\n",
       "       &#x27;2017-01-29T00:00:00.000000000&#x27;, &#x27;2017-02-05T00:00:00.000000000&#x27;,\n",
       "       &#x27;2017-02-12T00:00:00.000000000&#x27;, &#x27;2017-02-19T00:00:00.000000000&#x27;,\n",
       "       &#x27;2017-02-26T00:00:00.000000000&#x27;, &#x27;2017-03-05T00:00:00.000000000&#x27;,\n",
       "       &#x27;2017-03-12T00:00:00.000000000&#x27;, &#x27;2017-03-19T00:00:00.000000000&#x27;,\n",
       "       &#x27;2017-03-26T00:00:00.000000000&#x27;, &#x27;2017-04-02T00:00:00.000000000&#x27;,\n",
       "       &#x27;2017-04-09T00:00:00.000000000&#x27;, &#x27;2017-04-16T00:00:00.000000000&#x27;,\n",
       "       &#x27;2017-04-23T00:00:00.000000000&#x27;, &#x27;2017-04-30T00:00:00.000000000&#x27;,\n",
       "       &#x27;2017-05-07T00:00:00.000000000&#x27;, &#x27;2017-05-14T00:00:00.000000000&#x27;,\n",
       "       &#x27;2017-05-21T00:00:00.000000000&#x27;, &#x27;2017-05-28T00:00:00.000000000&#x27;,\n",
       "       &#x27;2017-06-04T00:00:00.000000000&#x27;, &#x27;2017-06-11T00:00:00.000000000&#x27;,\n",
       "       &#x27;2017-06-18T00:00:00.000000000&#x27;, &#x27;2017-06-25T00:00:00.000000000&#x27;,\n",
       "       &#x27;2017-07-02T00:00:00.000000000&#x27;, &#x27;2017-07-09T00:00:00.000000000&#x27;,\n",
       "       &#x27;2017-07-16T00:00:00.000000000&#x27;, &#x27;2017-07-23T00:00:00.000000000&#x27;,\n",
       "       &#x27;2017-07-30T00:00:00.000000000&#x27;, &#x27;2017-08-06T00:00:00.000000000&#x27;,\n",
       "       &#x27;2017-08-13T00:00:00.000000000&#x27;, &#x27;2017-08-20T00:00:00.000000000&#x27;,\n",
       "       &#x27;2017-08-27T00:00:00.000000000&#x27;, &#x27;2017-09-03T00:00:00.000000000&#x27;,\n",
       "       &#x27;2017-09-10T00:00:00.000000000&#x27;, &#x27;2017-09-17T00:00:00.000000000&#x27;,\n",
       "       &#x27;2017-09-24T00:00:00.000000000&#x27;, &#x27;2017-10-01T00:00:00.000000000&#x27;,\n",
       "       &#x27;2017-10-08T00:00:00.000000000&#x27;, &#x27;2017-10-15T00:00:00.000000000&#x27;,\n",
       "       &#x27;2017-10-22T00:00:00.000000000&#x27;, &#x27;2017-10-29T00:00:00.000000000&#x27;,\n",
       "       &#x27;2017-11-05T00:00:00.000000000&#x27;, &#x27;2017-11-12T00:00:00.000000000&#x27;,\n",
       "       &#x27;2017-11-19T00:00:00.000000000&#x27;, &#x27;2017-11-26T00:00:00.000000000&#x27;,\n",
       "       &#x27;2017-12-03T00:00:00.000000000&#x27;], dtype=&#x27;datetime64[ns]&#x27;)</pre></div></li><li class='xr-var-item'><div class='xr-var-name'><span>spatial_ref</span></div><div class='xr-var-dims'>()</div><div class='xr-var-dtype'>int32</div><div class='xr-var-preview xr-preview'>3577</div><input id='attrs-5cba5f6b-087f-4625-9241-f770fd0f2abb' class='xr-var-attrs-in' type='checkbox' ><label for='attrs-5cba5f6b-087f-4625-9241-f770fd0f2abb' title='Show/Hide attributes'><svg class='icon xr-icon-file-text2'><use xlink:href='#icon-file-text2'></use></svg></label><input id='data-c31c5e30-a1b9-4914-8549-daaaa0912c43' class='xr-var-data-in' type='checkbox'><label for='data-c31c5e30-a1b9-4914-8549-daaaa0912c43' title='Show/Hide data repr'><svg class='icon xr-icon-database'><use xlink:href='#icon-database'></use></svg></label><div class='xr-var-attrs'><dl class='xr-attrs'><dt><span>spatial_ref :</span></dt><dd>PROJCS[&quot;GDA94 / Australian Albers&quot;,GEOGCS[&quot;GDA94&quot;,DATUM[&quot;Geocentric_Datum_of_Australia_1994&quot;,SPHEROID[&quot;GRS 1980&quot;,6378137,298.257222101,AUTHORITY[&quot;EPSG&quot;,&quot;7019&quot;]],AUTHORITY[&quot;EPSG&quot;,&quot;6283&quot;]],PRIMEM[&quot;Greenwich&quot;,0,AUTHORITY[&quot;EPSG&quot;,&quot;8901&quot;]],UNIT[&quot;degree&quot;,0.0174532925199433,AUTHORITY[&quot;EPSG&quot;,&quot;9122&quot;]],AUTHORITY[&quot;EPSG&quot;,&quot;4283&quot;]],PROJECTION[&quot;Albers_Conic_Equal_Area&quot;],PARAMETER[&quot;latitude_of_center&quot;,0],PARAMETER[&quot;longitude_of_center&quot;,132],PARAMETER[&quot;standard_parallel_1&quot;,-18],PARAMETER[&quot;standard_parallel_2&quot;,-36],PARAMETER[&quot;false_easting&quot;,0],PARAMETER[&quot;false_northing&quot;,0],UNIT[&quot;metre&quot;,1,AUTHORITY[&quot;EPSG&quot;,&quot;9001&quot;]],AXIS[&quot;Easting&quot;,EAST],AXIS[&quot;Northing&quot;,NORTH],AUTHORITY[&quot;EPSG&quot;,&quot;3577&quot;]]</dd><dt><span>grid_mapping_name :</span></dt><dd>albers_conical_equal_area</dd></dl></div><div class='xr-var-data'><pre>array(3577, dtype=int32)</pre></div></li></ul></div></li><li class='xr-section-item'><input id='section-6743710d-fcad-4b37-8b65-624e8051390d' class='xr-section-summary-in' type='checkbox' disabled ><label for='section-6743710d-fcad-4b37-8b65-624e8051390d' class='xr-section-summary'  title='Expand/collapse section'>Attributes: <span>(0)</span></label><div class='xr-section-inline-details'></div><div class='xr-section-details'><dl class='xr-attrs'></dl></div></li></ul></div></div>"
      ],
      "text/plain": [
       "<xarray.DataArray 'time' (time: 49)>\n",
       "array(['2017-01-01T00:00:00.000000000', '2017-01-08T00:00:00.000000000',\n",
       "       '2017-01-15T00:00:00.000000000', '2017-01-22T00:00:00.000000000',\n",
       "       '2017-01-29T00:00:00.000000000', '2017-02-05T00:00:00.000000000',\n",
       "       '2017-02-12T00:00:00.000000000', '2017-02-19T00:00:00.000000000',\n",
       "       '2017-02-26T00:00:00.000000000', '2017-03-05T00:00:00.000000000',\n",
       "       '2017-03-12T00:00:00.000000000', '2017-03-19T00:00:00.000000000',\n",
       "       '2017-03-26T00:00:00.000000000', '2017-04-02T00:00:00.000000000',\n",
       "       '2017-04-09T00:00:00.000000000', '2017-04-16T00:00:00.000000000',\n",
       "       '2017-04-23T00:00:00.000000000', '2017-04-30T00:00:00.000000000',\n",
       "       '2017-05-07T00:00:00.000000000', '2017-05-14T00:00:00.000000000',\n",
       "       '2017-05-21T00:00:00.000000000', '2017-05-28T00:00:00.000000000',\n",
       "       '2017-06-04T00:00:00.000000000', '2017-06-11T00:00:00.000000000',\n",
       "       '2017-06-18T00:00:00.000000000', '2017-06-25T00:00:00.000000000',\n",
       "       '2017-07-02T00:00:00.000000000', '2017-07-09T00:00:00.000000000',\n",
       "       '2017-07-16T00:00:00.000000000', '2017-07-23T00:00:00.000000000',\n",
       "       '2017-07-30T00:00:00.000000000', '2017-08-06T00:00:00.000000000',\n",
       "       '2017-08-13T00:00:00.000000000', '2017-08-20T00:00:00.000000000',\n",
       "       '2017-08-27T00:00:00.000000000', '2017-09-03T00:00:00.000000000',\n",
       "       '2017-09-10T00:00:00.000000000', '2017-09-17T00:00:00.000000000',\n",
       "       '2017-09-24T00:00:00.000000000', '2017-10-01T00:00:00.000000000',\n",
       "       '2017-10-08T00:00:00.000000000', '2017-10-15T00:00:00.000000000',\n",
       "       '2017-10-22T00:00:00.000000000', '2017-10-29T00:00:00.000000000',\n",
       "       '2017-11-05T00:00:00.000000000', '2017-11-12T00:00:00.000000000',\n",
       "       '2017-11-19T00:00:00.000000000', '2017-11-26T00:00:00.000000000',\n",
       "       '2017-12-03T00:00:00.000000000'], dtype='datetime64[ns]')\n",
       "Coordinates:\n",
       "  * time         (time) datetime64[ns] 2017-01-01 2017-01-08 ... 2017-12-03\n",
       "    spatial_ref  int32 3577"
      ]
     },
     "execution_count": 17,
     "metadata": {},
     "output_type": "execute_result"
    }
   ],
   "source": [
    "ds.time"
   ]
  },
  {
   "cell_type": "markdown",
   "metadata": {},
   "source": [
    "### Interpolate missing (i.e. nan) values linearly"
   ]
  },
  {
   "cell_type": "code",
   "execution_count": 18,
   "metadata": {},
   "outputs": [
    {
     "name": "stdout",
     "output_type": "stream",
     "text": [
      "Interpolating dataset using method: interpolate_na.\n",
      "> Warning: dataset still contains nan values. The first and/or last time slices may be empty.\n",
      "> Interpolation successful.\n",
      "\n",
      "<xarray.Dataset>\n",
      "Dimensions:      (time: 49, x: 7264, y: 6638)\n",
      "Coordinates:\n",
      "    spatial_ref  int32 3577\n",
      "  * time         (time) datetime64[ns] 2017-01-01 2017-01-08 ... 2017-12-03\n",
      "  * x            (x) float64 -1.257e+06 -1.257e+06 ... -1.184e+06 -1.184e+06\n",
      "  * y            (y) float64 -2.453e+06 -2.453e+06 ... -2.519e+06 -2.519e+06\n",
      "Data variables:\n",
      "    veg_index    (time, y, x) float64 dask.array<chunksize=(49, 6153, 5448), meta=np.ndarray>\n"
     ]
    }
   ],
   "source": [
    "# chunk dask to -1 to make compatible with this function\n",
    "ds = ds.chunk({'time': -1})\n",
    "\n",
    "# takes our dask ds and interpolates missing values\n",
    "ds = phenolopy.interpolate(ds=ds, method='interpolate_na')\n",
    "\n",
    "# display dataset\n",
    "print(ds)"
   ]
  },
  {
   "cell_type": "markdown",
   "metadata": {},
   "source": [
    "### Smooth data on per-pixel basis"
   ]
  },
  {
   "cell_type": "code",
   "execution_count": 19,
   "metadata": {},
   "outputs": [
    {
     "name": "stdout",
     "output_type": "stream",
     "text": [
      "Smoothing method: savitsky with window length: 3 and polyorder: 1.\n",
      "> Warning: dataset contains nan values. You may want to interpolate next.\n",
      "> Smoothing successful.\n",
      "\n",
      "<xarray.Dataset>\n",
      "Dimensions:      (time: 49, x: 7264, y: 6638)\n",
      "Coordinates:\n",
      "  * time         (time) datetime64[ns] 2017-01-01 2017-01-08 ... 2017-12-03\n",
      "  * x            (x) float64 -1.257e+06 -1.257e+06 ... -1.184e+06 -1.184e+06\n",
      "  * y            (y) float64 -2.453e+06 -2.453e+06 ... -2.519e+06 -2.519e+06\n",
      "    spatial_ref  int32 dask.array<chunksize=(), meta=np.ndarray>\n",
      "Data variables:\n",
      "    veg_index    (time, y, x) float64 dask.array<chunksize=(49, 6153, 5448), meta=np.ndarray>\n"
     ]
    }
   ],
   "source": [
    "# chunk dask to -1 to make compatible with this function\n",
    "ds = ds.chunk({'time': -1})\n",
    "\n",
    "# take our dask ds and smooth using savitsky golay filter\n",
    "ds = phenolopy.smooth(ds=ds, method='savitsky', window_length=3, polyorder=1)\n",
    "\n",
    "# display dataset\n",
    "print(ds)"
   ]
  },
  {
   "cell_type": "markdown",
   "metadata": {},
   "source": [
    "### Upper envelope correction\n",
    "todo"
   ]
  },
  {
   "cell_type": "code",
   "execution_count": null,
   "metadata": {},
   "outputs": [],
   "source": [
    "# todo"
   ]
  },
  {
   "cell_type": "markdown",
   "metadata": {},
   "source": [
    "### Calculate number of seasons "
   ]
  },
  {
   "cell_type": "code",
   "execution_count": null,
   "metadata": {},
   "outputs": [],
   "source": [
    "# chunk dask to -1 to make compatible with this function\n",
    "ds = ds.chunk({'time': -1})\n",
    "\n",
    "# take our dask ds and smooth using savitsky golay filter\n",
    "da_num_seasons = phenolopy.calc_num_seasons(ds=ds)\n",
    "\n",
    "# display dataset\n",
    "print(da_num_seasons)"
   ]
  },
  {
   "cell_type": "code",
   "execution_count": null,
   "metadata": {},
   "outputs": [],
   "source": [
    "ds.time"
   ]
  },
  {
   "cell_type": "markdown",
   "metadata": {},
   "source": [
    "## Calculate Phenolometrics"
   ]
  },
  {
   "cell_type": "code",
   "execution_count": 20,
   "metadata": {},
   "outputs": [
    {
     "name": "stdout",
     "output_type": "stream",
     "text": [
      "<xarray.Dataset>\n",
      "Dimensions:      (time: 49, x: 7264, y: 6638)\n",
      "Coordinates:\n",
      "  * time         (time) datetime64[ns] 2017-01-01 2017-01-08 ... 2017-12-03\n",
      "  * x            (x) float64 -1.257e+06 -1.257e+06 ... -1.184e+06 -1.184e+06\n",
      "  * y            (y) float64 -2.453e+06 -2.453e+06 ... -2.519e+06 -2.519e+06\n",
      "    spatial_ref  int32 3577\n",
      "Data variables:\n",
      "    veg_index    (time, y, x) float32 0.14066498 0.14376646 ... 0.11233946\n"
     ]
    }
   ],
   "source": [
    "# compute\n",
    "ds = ds.compute()\n",
    "print(ds)"
   ]
  },
  {
   "cell_type": "code",
   "execution_count": 21,
   "metadata": {},
   "outputs": [
    {
     "name": "stdout",
     "output_type": "stream",
     "text": [
      "Initialising calculation of phenometrics.\n",
      "\n",
      "Beginning extraction of CRS metadata.\n",
      "> Extracting CRS metadata.\n",
      "> Success!\n",
      "\n",
      "Beginning calculation of phenometrics. This can take awhile - please wait.\n",
      "\n",
      "Beginning calculation of peak of season (pos) values and times.\n",
      "> Calculating peak of season (pos) values.\n",
      "> Calculating peak of season (pos) times.\n",
      "> Success!\n",
      "\n",
      "Beginning calculation of valley of season (vos) values and times.\n",
      "> Calculating valley of season (vos) values.\n",
      "> Calculating valley of season (vos) times.\n",
      "> Success!\n",
      "\n",
      "Beginning calculation of base (bse) values (times not possible).\n",
      "> Calculating base (bse) values.\n",
      "> Success!\n",
      "\n",
      "Beginning calculation of amplitude of season (aos) values (times not possible).\n",
      "> Calculating amplitude of season (aos) values.\n",
      "> Success!\n",
      "\n",
      "Beginning calculation of start of season (sos) values and times.\n",
      "> Calculating start of season (sos) values via method: seasonal_amplitude.\n",
      "> Calculating start of season (sos) times via method: seasonal_amplitude.\n",
      "> Success!\n",
      "\n",
      "Beginning calculation of end of season (eos) values and times.\n",
      "> Calculating end of season (eos) values via method: seasonal_amplitude.\n",
      "> Calculating end of season (eos) times via method: seasonal_amplitude.\n",
      "> Success!\n",
      "\n",
      "Beginning calculation of length of season (los) values (times not possible).\n",
      "> Calculating length of season (los) values.\n",
      "> Success!\n",
      "\n",
      "Beginning calculation of rate of increase (roi) values (times not possible).\n",
      "> Calculating rate of increase (roi) values.\n",
      "> Success!\n",
      "\n",
      "Beginning calculation of rate of decrease (rod) values (times not possible).\n",
      "> Calculating rate of decrease (rod) values.\n",
      "> Success!\n",
      "\n",
      "Beginning calculation of long integral of season (lios) values (times not possible).\n",
      "> Calculating long integral of season (lios) values.\n",
      "> Success!\n",
      "\n",
      "Beginning calculation of short integral of season (sios) values (times not possible).\n",
      "> Calculating short integral of season (sios) values.\n",
      "> Success!\n",
      "\n",
      "Beginning calculation of long integral of total (liot) values (times not possible).\n",
      "> Calculating long integral of total (liot) values.\n",
      "> Success!\n",
      "\n",
      "Beginning calculation of short integral of total (siot) values (times not possible).\n",
      "> Calculating short integral of total (siot) values.\n",
      "> Success!\n",
      "\n",
      "Beginning addition of CRS metadata.\n",
      "> Adding CRS metadata.\n",
      "> Success!\n",
      "\n",
      "Phenometrics calculated successfully!\n"
     ]
    }
   ],
   "source": [
    "%autoreload\n",
    "\n",
    "# calc phenometrics via phenolopy!\n",
    "ds_phenos = phenolopy.calc_phenometrics(da=ds['veg_index'], peak_metric='pos', base_metric='vos', method='seasonal_amplitude', factor=0.2, thresh_sides='two_sided', abs_value=0.1)"
   ]
  },
  {
   "cell_type": "code",
   "execution_count": 30,
   "metadata": {},
   "outputs": [],
   "source": [
    "from datacube.drivers.netcdf import write_dataset_to_netcdf\n",
    "write_dataset_to_netcdf(ds_phenos, 'roy_2017_1w_phenos.nc')"
   ]
  },
  {
   "cell_type": "markdown",
   "metadata": {},
   "source": [
    "### Testing"
   ]
  },
  {
   "cell_type": "code",
   "execution_count": null,
   "metadata": {},
   "outputs": [],
   "source": [
    "# set up params\n",
    "import random\n",
    "import shutil\n",
    "\n",
    "# set output filename\n",
    "filename = 'roy_2_p_pos_b_vos_seas_amp_f_015'\n",
    "\n",
    "# set seed \n",
    "random.seed(50)\n",
    "\n",
    "# gen random x and y lists for specified num pixels (e.g. 250 x, 250 y)\n",
    "n_pixels = 200\n",
    "x_list = random.sample(range(0, len(ds_phenos['x'])), n_pixels)\n",
    "y_list = random.sample(range(0, len(ds_phenos['y'])), n_pixels)"
   ]
  },
  {
   "cell_type": "code",
   "execution_count": null,
   "metadata": {},
   "outputs": [],
   "source": [
    "def run_test(ds_raw, ds_phen, filename, x_list, y_list):\n",
    "    \n",
    "    # loop through each pixel pair\n",
    "    for x, y in zip(x_list, y_list):\n",
    "        \n",
    "        # get pixel and associate phenos pixel\n",
    "        v = ds_raw.isel(x=x, y=y)\n",
    "        p = ds_phen.isel(x=x, y=y)\n",
    "        \n",
    "        # create fig\n",
    "        fig = plt.figure(figsize=(12, 5))\n",
    "\n",
    "        # plot main trend\n",
    "        plt.plot(v['time.dayofyear'], v['veg_index'], linestyle='solid', marker='.', color='black')\n",
    "\n",
    "        # plot pos vals and times\n",
    "        plt.plot(p['pos_times'], p['pos_values'], \n",
    "                 marker='o', linestyle='', color='blue', label='POS')\n",
    "        plt.annotate('POS', (p['pos_times'], p['pos_values']))\n",
    "\n",
    "        # plot vos vals and times\n",
    "        plt.plot(p['vos_times'], p['vos_values'], \n",
    "                 marker='o', linestyle='', color='darkred', label='VOS')\n",
    "        plt.annotate('VOS', (p['vos_times'], p['vos_values']))\n",
    "\n",
    "        # plot bse vals\n",
    "        plt.axhline(p['bse_values'], \n",
    "                    marker='', linestyle='dashed', color='red', label='BSE')\n",
    "        # add legend\n",
    "\n",
    "        # plot sos vals and times\n",
    "        plt.plot(p['sos_times'], p['sos_values'], \n",
    "                 marker='s', linestyle='', color='green', label='SOS')\n",
    "        plt.annotate('SOS', (p['sos_times'], p['sos_values']))\n",
    "\n",
    "        # plot eos vals and times\n",
    "        plt.plot(p['eos_times'], p['eos_values'], \n",
    "                 marker='s', linestyle='', color='orange', label='EOS')\n",
    "        plt.annotate('EOS', (p['eos_times'], p['eos_values']))\n",
    "\n",
    "        # plot aos vals\n",
    "        plt.axvline(p['pos_times'], \n",
    "                    marker='', color='magenta', linestyle='dotted', label='AOS')\n",
    "\n",
    "        # plot los vals\n",
    "        plt.axhline((p['sos_values'] + p['eos_values']) / 2, \n",
    "                    marker='', color='yellowgreen', linestyle='dashdot', label='LOS')\n",
    "\n",
    "        # plot sios\n",
    "        plt.fill_between(v['time.dayofyear'], v['veg_index'], y2=p['bse_values'],\n",
    "                         color='red', alpha=0.1, label='SIOS')\n",
    "\n",
    "        # plot lios\n",
    "        t = ~v.where((v['time.dayofyear'] >= p['sos_times']) & (v['time.dayofyear'] <= p['eos_times'])).isnull()\n",
    "        plt.fill_between(v['time.dayofyear'], v['veg_index'], where=t['veg_index'],\n",
    "                          color='yellow', alpha=0.2, label='LIOS')    \n",
    "\n",
    "        # plot siot\n",
    "        plt.fill_between(v['time.dayofyear'], v['veg_index'], y2=p['bse_values'],\n",
    "                         color='aqua', alpha=0.3, label='SIOT')\n",
    "\n",
    "        # plot liot\n",
    "        plt.fill_between(v['time.dayofyear'], v['veg_index'],\n",
    "                         color='aqua', alpha=0.1, label='LIOT')\n",
    "\n",
    "        # add legend\n",
    "        plt.legend(loc='best')\n",
    "        \n",
    "        # create output filename\n",
    "        out = os.path.join('testing', filename + '_x_' + str(x) + '_y_' + str(y) + '.jpg')\n",
    "\n",
    "        # save to file without plotting\n",
    "        fig.savefig(out)\n",
    "        plt.close()\n",
    "        \n",
    "    # export as zip\n",
    "    shutil.make_archive(filename + '.zip', 'zip', './testing')\n",
    "\n",
    "    # clear all files in dir\n",
    "    for root, dirs, files in os.walk('./testing'):\n",
    "        for file in files:\n",
    "            os.remove(os.path.join(root, file))\n",
    "\n",
    "# perform test\n",
    "run_test(ds_raw=ds, ds_phen=ds_phenos, filename=filename, x_list=x_list, y_list=y_list)"
   ]
  },
  {
   "cell_type": "code",
   "execution_count": null,
   "metadata": {},
   "outputs": [],
   "source": [
    "from datacube.utils.cog import write_cog\n",
    "\n",
    "write_cog(geo_im=ds_phenos['lios_values'], fname='lios.tif', overwrite=True)"
   ]
  },
  {
   "cell_type": "markdown",
   "metadata": {},
   "source": [
    "### Working"
   ]
  },
  {
   "cell_type": "code",
   "execution_count": null,
   "metadata": {
    "jupyter": {
     "source_hidden": true
    }
   },
   "outputs": [],
   "source": [
    "# different types of detection, using stl residuals - remove outlier method\n",
    "#from scipy.stats import median_absolute_deviation\n",
    "\n",
    "#v = ds.isel(x=0, y=0, time=slice(0, 69))\n",
    "#v['veg_index'].data = data\n",
    "\n",
    "#v_med = remove_outliers(v, method='median', user_factor=1, num_dates_per_year=24, z_pval=0.05)\n",
    "#v_zsc = remove_outliers(v, method='zscore', user_factor=1, num_dates_per_year=24, z_pval=0.1)\n",
    "\n",
    "#stl_res = stl(v['veg_index'], period=24, seasonal=5, robust=True).fit()\n",
    "#v_rsd = stl_res.resid\n",
    "#v_wgt = stl_res.weights\n",
    "\n",
    "#o = v.copy()\n",
    "#o['veg_index'].data = v_rsd\n",
    "\n",
    "#w = v.copy()\n",
    "#w['veg_index'].data = v_wgt\n",
    "\n",
    "#m = xr.where(o > o.std('time'), True, False)\n",
    "#o = v.where(m)\n",
    "\n",
    "#m = xr.where(w < 1e-8, True, False)\n",
    "#w = v.where(m)\n",
    "\n",
    "#fig = plt.figure(figsize=(18, 7))\n",
    "#plt.plot(v['time'], v['veg_index'], color='black', marker='o')\n",
    "#plt.plot(o['time'], o['veg_index'], color='red', marker='o', linestyle='-')\n",
    "#plt.plot(w['time'], w['veg_index'], color='blue', marker='o', linestyle='-')\n",
    "#plt.axhline(y=float(o['veg_index'].std('time')))\n",
    "#plt.show()"
   ]
  },
  {
   "cell_type": "code",
   "execution_count": null,
   "metadata": {
    "jupyter": {
     "source_hidden": true
    }
   },
   "outputs": [],
   "source": [
    "# working method for stl outlier dection. can't quite get it to match timesat results?\n",
    "# need to speed this up - very slow for even relatively small datasets\n",
    "#def func_stl(vec, period, seasonal, jump_l, jump_s, jump_t):\n",
    "    #resid = stl(vec, period=period, seasonal=seasonal, \n",
    "                #seasonal_jump=jump_s, trend_jump=jump_t, low_pass_jump=jump_l).fit()\n",
    "    #return resid.resid\n",
    "\n",
    "#def do_stl_apply(da, multi_pct, period, seasonal):\n",
    "    \n",
    "    # calc jump size for lowpass, season and trend to speed up processing\n",
    "    #jump_l = int(multi_pct * (period + 1))\n",
    "    #jump_s = int(multi_pct * (period + 1))\n",
    "    #jump_t = int(multi_pct * 1.5 * (period + 1))\n",
    "    \n",
    "    #f = xr.apply_ufunc(func_stl, da,\n",
    "                       #input_core_dims=[['time']], \n",
    "                       #output_core_dims=[['time']], \n",
    "                       #vectorize=True, dask='parallelized', \n",
    "                       #output_dtypes=[ds['veg_index'].dtype],\n",
    "                       #kwargs={'period': period, 'seasonal': seasonal, \n",
    "                               #'jump_l': jump_l, 'jump_s': jump_s, 'jump_t': jump_t}) \n",
    "    #return f\n",
    "\n",
    "# chunk up to make use of dask parallel\n",
    "#ds = ds.chunk({'time': -1})\n",
    "\n",
    "# calculate residuals for each vector  stl\n",
    "#stl_resids = do_stl_apply(ds['veg_index'], multi_pct=0.15, period=24, seasonal=13)\n",
    "\n",
    "#s = ds['veg_index'].stack(z=('x', 'y'))\n",
    "#s = s.chunk({'time': -1})\n",
    "#s = s.groupby('z').map(func_stl)\n",
    "#out = out.unstack()\n",
    "\n",
    "#s = ds.chunk({'time': -1})\n",
    "#t = xr.full_like(ds['veg_index'], np.nan)\n",
    "#out = xr.map_blocks(func_stl, ds['veg_index'], template=t).compute()\n",
    "\n",
    "#stl_resids = stl_resids.compute()"
   ]
  },
  {
   "cell_type": "code",
   "execution_count": null,
   "metadata": {
    "jupyter": {
     "source_hidden": true
    }
   },
   "outputs": [],
   "source": [
    "# working double logistic - messy though\n",
    "# https://colab.research.google.com/github/1mikegrn/pyGC/blob/master/colab/Asymmetric_GC_integration.ipynb#scrollTo=upaYKFdBGEAo\n",
    "# see for asym gaussian example\n",
    "\n",
    "#da = v.where(v['time.year'] == 2016, drop=True)\n",
    "\n",
    "#def logi(x, a, b, c, d):\n",
    "    #return a / (1 + xr.ufuncs.exp(-c * (x - d))) + b\n",
    "\n",
    "# get date at max veg index\n",
    "#idx = int(da['veg_index'].argmax())\n",
    "\n",
    "# get left and right of peak of season\n",
    "#da_l = da.where(da['time'] <= da['time'].isel(time=idx), drop=True)\n",
    "#da_r = da.where(da['time'] >= da['time'].isel(time=idx), drop=True)\n",
    "\n",
    "# must sort right curve (da_r) descending to flip data\n",
    "#da_r = da_r.sortby(da_r['time'], ascending=False)\n",
    "\n",
    "# get indexes of times (times not compat with exp)\n",
    "#da_l_x_idxs = np.arange(1, len(da_l['time']) + 1, step=1)\n",
    "#da_r_x_idxs = np.arange(1, len(da_r['time']) + 1, step=1)\n",
    "\n",
    "# fit curve\n",
    "#popt_l, pcov_l = curve_fit(logi, da_l_x_idxs, da_l['veg_index'], method=\"trf\")\n",
    "#popt_r, pcov_r = curve_fit(logi, da_r_x_idxs, da_r['veg_index'], method=\"trf\")\n",
    "\n",
    "# apply fit to original data\n",
    "#da_fit_l = logi(da_l_x_idxs, *popt_l)\n",
    "#da_fit_r = logi(da_r_x_idxs, *popt_r)\n",
    "\n",
    "# flip fitted vector back to original da order\n",
    "#da_fit_r = np.flip(da_fit_r)\n",
    "\n",
    "# get mean of pos value, remove overlap between l and r\n",
    "#pos_mean = (da_fit_l[-1] + da_fit_r[0]) / 2\n",
    "#da_fit_l = np.delete(da_fit_l, -1)\n",
    "#da_fit_r = np.delete(da_fit_r, 1)\n",
    "\n",
    "# concat back together with mean val inbetween\n",
    "#da_logi = np.concatenate([da_fit_l, pos_mean, da_fit_r], axis=None)\n",
    "\n",
    "# smooth final curve with mild savgol\n",
    "#da_logi = savgol_filter(da_logi, 3, 1)\n",
    "\n",
    "#fig = plt.subplots(1, 1, figsize=(6, 4))\n",
    "#plt.plot(da['time'], da['veg_index'], 'o')\n",
    "#plt.plot(da['time'], da_logi)"
   ]
  },
  {
   "cell_type": "code",
   "execution_count": null,
   "metadata": {
    "jupyter": {
     "source_hidden": true
    }
   },
   "outputs": [],
   "source": [
    "#from scipy.signal import find_peaks\n",
    "\n",
    "#x, y = 0, 1\n",
    "\n",
    "#v = da.isel(x=x, y=y)\n",
    "\n",
    "#height = float(v.quantile(dim='time', q=0.75))\n",
    "#distance = math.ceil(len(v['time']) / 4)\n",
    "\n",
    "#p = find_peaks(v, height=height, distance=distance)[0]\n",
    "\n",
    "#p_dts = v['time'].isel(time=p)\n",
    "\n",
    "#for p_dt in p_dts:\n",
    "    #plt.axvline(p_dt['time'].dt.dayofyear, color='black', linestyle='--')\n",
    "\n",
    "#count_peaks = len(num_peaks[0])\n",
    "#if count_peaks > 0:\n",
    "    #return count_peaks\n",
    "#else:\n",
    "    #return 0\n",
    "    \n",
    "#plt.plot(v['time.dayofyear'], v)"
   ]
  },
  {
   "cell_type": "code",
   "execution_count": null,
   "metadata": {
    "jupyter": {
     "source_hidden": true
    }
   },
   "outputs": [],
   "source": [
    "# flip to get min closest to pos\n",
    "# if we want closest sos val to pos we flip instead to trick argmin\n",
    "#flip = dists_sos_v.sortby(dists_sos_v['time'], ascending=False)\n",
    "#min_right = flip.isel(time=flip.argmin('time'))\n",
    "#temp_pos_cls = da.isel(x=x, y=0).where(da['time'] == min_right['time'].isel(x=x, y=0))\n",
    "#plt.plot(temp_pos_cls.time, temp_pos_cls, marker='o', color='black', alpha=0.25)"
   ]
  }
 ],
 "metadata": {
  "kernelspec": {
   "display_name": "Python 3",
   "language": "python",
   "name": "python3"
  },
  "language_info": {
   "codemirror_mode": {
    "name": "ipython",
    "version": 3
   },
   "file_extension": ".py",
   "mimetype": "text/x-python",
   "name": "python",
   "nbconvert_exporter": "python",
   "pygments_lexer": "ipython3",
   "version": "3.6.9"
  }
 },
 "nbformat": 4,
 "nbformat_minor": 4
}
