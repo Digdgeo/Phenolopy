{
 "cells": [
  {
   "cell_type": "markdown",
   "metadata": {},
   "source": [
    "# Phenolopy"
   ]
  },
  {
   "cell_type": "markdown",
   "metadata": {},
   "source": [
    "## Load packages"
   ]
  },
  {
   "cell_type": "markdown",
   "metadata": {},
   "source": [
    "### Set up a dask cluster"
   ]
  },
  {
   "cell_type": "code",
   "execution_count": null,
   "metadata": {},
   "outputs": [],
   "source": [
    "%matplotlib inline\n",
    "%load_ext autoreload\n",
    "\n",
    "import os, sys\n",
    "import xarray as xr\n",
    "import numpy as np\n",
    "import pandas as pd\n",
    "import datacube\n",
    "import matplotlib.pyplot as plt\n",
    "\n",
    "from scipy.signal import savgol_filter, wiener\n",
    "from scipy.stats import zscore\n",
    "from statsmodels.tsa.seasonal import STL as stl\n",
    "from datacube.drivers.netcdf import write_dataset_to_netcdf\n",
    "\n",
    "sys.path.append('../Scripts')\n",
    "from dea_datahandling import load_ard\n",
    "from dea_dask import create_local_dask_cluster\n",
    "from dea_plotting import display_map, rgb\n",
    "\n",
    "sys.path.append('./scripts')\n",
    "import phenolopy"
   ]
  },
  {
   "cell_type": "code",
   "execution_count": null,
   "metadata": {},
   "outputs": [],
   "source": [
    "# initialise the cluster. paste url into dask panel for more info.\n",
    "create_local_dask_cluster()"
   ]
  },
  {
   "cell_type": "code",
   "execution_count": null,
   "metadata": {},
   "outputs": [],
   "source": [
    "# open up a datacube connection\n",
    "dc = datacube.Datacube(app='phenolopy')"
   ]
  },
  {
   "cell_type": "markdown",
   "metadata": {},
   "source": [
    "## Study area and data setup"
   ]
  },
  {
   "cell_type": "markdown",
   "metadata": {},
   "source": [
    "### Set study area and time range"
   ]
  },
  {
   "cell_type": "code",
   "execution_count": null,
   "metadata": {},
   "outputs": [],
   "source": [
    "# set lat, lon (y, x) dictionary of testing areas for gdv project\n",
    "loc_dict = {\n",
    "    'test_a':   (-23.28043, 119.85931),\n",
    "    'test_b':   (-31.60693, 116.94264)\n",
    "}\n",
    "\n",
    "# set buffer length and height (x, y)\n",
    "buf_dict = {\n",
    "    'test_a': (0.025, 0.025),\n",
    "    'test_b': (0.025, 0.025),\n",
    "}"
   ]
  },
  {
   "cell_type": "code",
   "execution_count": null,
   "metadata": {},
   "outputs": [],
   "source": [
    "# select location from dict\n",
    "study_area = 'test_a'\n",
    "\n",
    "# set buffer size in lon, lat (x, y)\n",
    "lon_buff, lat_buff = buf_dict[study_area][0], buf_dict[study_area][1]\n",
    "\n",
    "# select time range. for a specific year, set same year with month 01 to 12. multiple years will be averaged.\n",
    "time_range = ('2016-11', '2018-02')"
   ]
  },
  {
   "cell_type": "code",
   "execution_count": null,
   "metadata": {},
   "outputs": [],
   "source": [
    "# select a study area from existing dict\n",
    "lat, lon = loc_dict[study_area][0], loc_dict[study_area][1]\n",
    "\n",
    "# combine centroid with buffer to form study boundary\n",
    "lat_extent = (lat - lat_buff, lat + lat_buff)\n",
    "lon_extent = (lon - lon_buff, lon + lon_buff)\n",
    "\n",
    "# display onto interacrive map\n",
    "display_map(x=lon_extent, y=lat_extent)"
   ]
  },
  {
   "cell_type": "markdown",
   "metadata": {},
   "source": [
    "### Load sentinel-2a, b data for above parameters\n"
   ]
  },
  {
   "cell_type": "code",
   "execution_count": null,
   "metadata": {},
   "outputs": [],
   "source": [
    "# set measurements (bands)\n",
    "measurements = [\n",
    "    'nbart_blue',\n",
    "    'nbart_green',\n",
    "    'nbart_red',\n",
    "    'nbart_nir_1',\n",
    "    'nbart_swir_2'\n",
    "]\n",
    "\n",
    "# create query from above and expected info\n",
    "query = {\n",
    "    'x': lon_extent,\n",
    "    'y': lat_extent,\n",
    "    'time': time_range,\n",
    "    'measurements': measurements,\n",
    "    'output_crs': 'EPSG:3577',\n",
    "    'resolution': (-10, 10),\n",
    "    'group_by': 'solar_day',\n",
    "}\n",
    "\n",
    "# load sentinel 2 data\n",
    "ds = load_ard(\n",
    "    dc=dc,\n",
    "    products=['s2a_ard_granule', 's2b_ard_granule'],\n",
    "    min_gooddata=0.90,\n",
    "    dask_chunks={'time': 1},\n",
    "    **query\n",
    ")\n",
    "\n",
    "# display dataset\n",
    "print(ds)\n",
    "\n",
    "# display a rgb data result of temporary resampled median \n",
    "#rgb(ds.resample(time='1M').median(), bands=['nbart_red', 'nbart_green', 'nbart_blue'], col='time', col_wrap=12)"
   ]
  },
  {
   "cell_type": "markdown",
   "metadata": {},
   "source": [
    "### Conform DEA band names"
   ]
  },
  {
   "cell_type": "code",
   "execution_count": null,
   "metadata": {},
   "outputs": [],
   "source": [
    "# takes our dask ds and conforms (renames) bands\n",
    "ds = phenolopy.conform_dea_band_names(ds)\n",
    "\n",
    "# display dataset\n",
    "print(ds)"
   ]
  },
  {
   "cell_type": "markdown",
   "metadata": {},
   "source": [
    "### Calculate vegetation index"
   ]
  },
  {
   "cell_type": "code",
   "execution_count": null,
   "metadata": {},
   "outputs": [],
   "source": [
    "# takes our dask ds and calculates veg index from spectral bands\n",
    "ds = phenolopy.calc_vege_index(ds, index='mavi', drop=True)\n",
    "\n",
    "# display dataset\n",
    "print(ds)"
   ]
  },
  {
   "cell_type": "markdown",
   "metadata": {},
   "source": [
    "## Pre-processing phase"
   ]
  },
  {
   "cell_type": "markdown",
   "metadata": {},
   "source": [
    "### Group data by month and reduce by median"
   ]
  },
  {
   "cell_type": "code",
   "execution_count": null,
   "metadata": {},
   "outputs": [],
   "source": [
    "# take our dask ds and group and reduce dataset in median weeks (26 for one year)\n",
    "ds = phenolopy.group(ds, group_by='month', reducer='median')\n",
    "\n",
    "# display dataset\n",
    "print(ds)"
   ]
  },
  {
   "cell_type": "code",
   "execution_count": null,
   "metadata": {},
   "outputs": [],
   "source": [
    "# show times\n",
    "ds = ds.compute()"
   ]
  },
  {
   "cell_type": "markdown",
   "metadata": {},
   "source": [
    "### Remove outliers from dataset on per-pixel basis"
   ]
  },
  {
   "cell_type": "code",
   "execution_count": null,
   "metadata": {},
   "outputs": [],
   "source": [
    "# chunk dask to -1 to make compatible with this function\n",
    "ds = ds.chunk({'time': -1})\n",
    "\n",
    "# takes our dask ds and remove outliers from data using median method\n",
    "ds = phenolopy.remove_outliers(ds=ds, method='median', user_factor=2, z_pval=0.05)\n",
    "\n",
    "# display dataset\n",
    "print(ds)"
   ]
  },
  {
   "cell_type": "markdown",
   "metadata": {},
   "source": [
    "### Resample dataset down to bi-monthly medians"
   ]
  },
  {
   "cell_type": "code",
   "execution_count": null,
   "metadata": {},
   "outputs": [],
   "source": [
    "# takes our dask ds and resamples data to bi-monthly medians\n",
    "ds = phenolopy.resample(ds, interval='1W', reducer='median')\n",
    "\n",
    "# display dataset\n",
    "print(ds)"
   ]
  },
  {
   "cell_type": "markdown",
   "metadata": {},
   "source": [
    "### Interpolate missing (i.e. nan) values linearly"
   ]
  },
  {
   "cell_type": "code",
   "execution_count": null,
   "metadata": {},
   "outputs": [],
   "source": [
    "# chunk dask to -1 to make compatible with this function\n",
    "ds = ds.chunk({'time': -1})\n",
    "\n",
    "# takes our dask ds and interpolates missing values\n",
    "ds = phenolopy.interpolate(ds=ds, method='interpolate_na')\n",
    "\n",
    "# display dataset\n",
    "print(ds)"
   ]
  },
  {
   "cell_type": "markdown",
   "metadata": {},
   "source": [
    "### Smooth data on per-pixel basis"
   ]
  },
  {
   "cell_type": "code",
   "execution_count": null,
   "metadata": {},
   "outputs": [],
   "source": [
    "# chunk dask to -1 to make compatible with this function\n",
    "ds = ds.chunk({'time': -1})\n",
    "\n",
    "# take our dask ds and smooth using savitsky golay filter\n",
    "ds = phenolopy.smooth(ds=ds, method='savitsky', window_length=3, polyorder=1)\n",
    "\n",
    "# display dataset\n",
    "print(ds)"
   ]
  },
  {
   "cell_type": "markdown",
   "metadata": {},
   "source": [
    "### Calculate number of seasons "
   ]
  },
  {
   "cell_type": "code",
   "execution_count": null,
   "metadata": {},
   "outputs": [],
   "source": [
    "# chunk dask to -1 to make compatible with this function\n",
    "ds = ds.chunk({'time': -1})\n",
    "\n",
    "# take our dask ds and smooth using savitsky golay filter\n",
    "da_num_seasons = phenolopy.calc_num_seasons(ds=ds)\n",
    "\n",
    "# display dataset\n",
    "print(da_num_seasons)"
   ]
  },
  {
   "cell_type": "markdown",
   "metadata": {},
   "source": [
    "## Calculate Phenometrics"
   ]
  },
  {
   "cell_type": "code",
   "execution_count": null,
   "metadata": {},
   "outputs": [],
   "source": [
    "# compute\n",
    "ds = ds.compute()\n",
    "print(ds)"
   ]
  },
  {
   "cell_type": "code",
   "execution_count": null,
   "metadata": {},
   "outputs": [],
   "source": [
    "# calc phenometrics via phenolopy!\n",
    "ds_phenos = phenolopy.calc_phenometrics(da=ds['veg_index'], peak_metric='pos', base_metric='vos', method='seasonal_amplitude', factor=0.2, thresh_sides='two_sided', abs_value=0.1)"
   ]
  },
  {
   "cell_type": "markdown",
   "metadata": {},
   "source": [
    "## Display phenometric"
   ]
  },
  {
   "cell_type": "code",
   "execution_count": null,
   "metadata": {},
   "outputs": [],
   "source": [
    "# set the metric you want to view (e.g. pos_values, pos_times, vos_values, vos_times, ect.)\n",
    "metric_name = 'vos_values'\n",
    "\n",
    "# plot this on map\n",
    "ds_phenos[metric_name].plot(robust=True, cmap='terrain_r')"
   ]
  }
 ],
 "metadata": {
  "kernelspec": {
   "display_name": "Python 3",
   "language": "python",
   "name": "python3"
  },
  "language_info": {
   "codemirror_mode": {
    "name": "ipython",
    "version": 3
   },
   "file_extension": ".py",
   "mimetype": "text/x-python",
   "name": "python",
   "nbconvert_exporter": "python",
   "pygments_lexer": "ipython3",
   "version": "3.6.9"
  }
 },
 "nbformat": 4,
 "nbformat_minor": 4
}
