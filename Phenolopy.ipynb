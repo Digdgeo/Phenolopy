{
 "cells": [
  {
   "cell_type": "markdown",
   "metadata": {},
   "source": [
    "# Phenolopy"
   ]
  },
  {
   "cell_type": "markdown",
   "metadata": {},
   "source": [
    "## Load packages"
   ]
  },
  {
   "cell_type": "markdown",
   "metadata": {},
   "source": [
    "### Set up a dask cluster"
   ]
  },
  {
   "cell_type": "code",
   "execution_count": 1,
   "metadata": {},
   "outputs": [],
   "source": [
    "%matplotlib inline\n",
    "%load_ext autoreload\n",
    "\n",
    "import os, sys\n",
    "import xarray as xr\n",
    "import numpy as np\n",
    "import pandas as pd\n",
    "import datacube\n",
    "import matplotlib.pyplot as plt\n",
    "\n",
    "from scipy.signal import savgol_filter, wiener\n",
    "from scipy.stats import zscore\n",
    "from statsmodels.tsa.seasonal import STL as stl\n",
    "from datacube.drivers.netcdf import write_dataset_to_netcdf\n",
    "\n",
    "sys.path.append('../Scripts')\n",
    "from dea_datahandling import load_ard\n",
    "from dea_dask import create_local_dask_cluster\n",
    "from dea_plotting import display_map, rgb\n",
    "\n",
    "sys.path.append('./scripts')\n",
    "import phenolopy"
   ]
  },
  {
   "cell_type": "code",
   "execution_count": 2,
   "metadata": {},
   "outputs": [
    {
     "data": {
      "text/html": [
       "<table style=\"border: 2px solid white;\">\n",
       "<tr>\n",
       "<td style=\"vertical-align: top; border: 0px solid white\">\n",
       "<h3 style=\"text-align: left;\">Client</h3>\n",
       "<ul style=\"text-align: left; list-style: none; margin: 0; padding: 0;\">\n",
       "  <li><b>Scheduler: </b>tcp://127.0.0.1:33243</li>\n",
       "  <li><b>Dashboard: </b><a href='/user/lewis/proxy/8787/status' target='_blank'>/user/lewis/proxy/8787/status</a></li>\n",
       "</ul>\n",
       "</td>\n",
       "<td style=\"vertical-align: top; border: 0px solid white\">\n",
       "<h3 style=\"text-align: left;\">Cluster</h3>\n",
       "<ul style=\"text-align: left; list-style:none; margin: 0; padding: 0;\">\n",
       "  <li><b>Workers: </b>1</li>\n",
       "  <li><b>Cores: </b>2</li>\n",
       "  <li><b>Memory: </b>14.18 GB</li>\n",
       "</ul>\n",
       "</td>\n",
       "</tr>\n",
       "</table>"
      ],
      "text/plain": [
       "<Client: 'tcp://127.0.0.1:33243' processes=1 threads=2, memory=14.18 GB>"
      ]
     },
     "metadata": {},
     "output_type": "display_data"
    }
   ],
   "source": [
    "# initialise the cluster. paste url into dask panel for more info.\n",
    "create_local_dask_cluster()"
   ]
  },
  {
   "cell_type": "code",
   "execution_count": 3,
   "metadata": {},
   "outputs": [],
   "source": [
    "# open up a datacube connection\n",
    "dc = datacube.Datacube(app='phenolopy')"
   ]
  },
  {
   "cell_type": "markdown",
   "metadata": {},
   "source": [
    "## Study area and data setup"
   ]
  },
  {
   "cell_type": "markdown",
   "metadata": {},
   "source": [
    "### Set study area and time range"
   ]
  },
  {
   "cell_type": "code",
   "execution_count": 4,
   "metadata": {},
   "outputs": [],
   "source": [
    "# set lat, lon (y, x) dictionary of testing areas for gdv project\n",
    "loc_dict = {\n",
    "    'test_a':   (-23.28043, 119.85931),\n",
    "    'test_b':   (-31.60693, 116.94264)\n",
    "}\n",
    "\n",
    "# set buffer length and height (x, y)\n",
    "buf_dict = {\n",
    "    'test_a': (0.025, 0.025),\n",
    "    'test_b': (0.025, 0.025),\n",
    "}"
   ]
  },
  {
   "cell_type": "code",
   "execution_count": 6,
   "metadata": {},
   "outputs": [],
   "source": [
    "# select location from dict\n",
    "study_area = 'test_a'\n",
    "\n",
    "# set buffer size in lon, lat (x, y)\n",
    "lon_buff, lat_buff = buf_dict[study_area][0], buf_dict[study_area][1]\n",
    "\n",
    "# select time range. for a specific year, set same year with month 01 to 12. multiple years will be averaged.\n",
    "time_range = ('2015-11', '2020-02')"
   ]
  },
  {
   "cell_type": "code",
   "execution_count": 7,
   "metadata": {},
   "outputs": [
    {
     "data": {
      "text/html": [
       "<div style=\"width:100%;\"><div style=\"position:relative;width:100%;height:0;padding-bottom:60%;\"><iframe src=\"data:text/html;charset=utf-8;base64,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\" style=\"position:absolute;width:100%;height:100%;left:0;top:0;border:none !important;\" allowfullscreen webkitallowfullscreen mozallowfullscreen></iframe></div></div>"
      ],
      "text/plain": [
       "<folium.folium.Map at 0x7fd0889f8d68>"
      ]
     },
     "execution_count": 7,
     "metadata": {},
     "output_type": "execute_result"
    }
   ],
   "source": [
    "# select a study area from existing dict\n",
    "lat, lon = loc_dict[study_area][0], loc_dict[study_area][1]\n",
    "\n",
    "# combine centroid with buffer to form study boundary\n",
    "lat_extent = (lat - lat_buff, lat + lat_buff)\n",
    "lon_extent = (lon - lon_buff, lon + lon_buff)\n",
    "\n",
    "# display onto interacrive map\n",
    "display_map(x=lon_extent, y=lat_extent)"
   ]
  },
  {
   "cell_type": "markdown",
   "metadata": {},
   "source": [
    "### Load sentinel-2a, b data for above parameters\n"
   ]
  },
  {
   "cell_type": "code",
   "execution_count": 8,
   "metadata": {},
   "outputs": [
    {
     "name": "stderr",
     "output_type": "stream",
     "text": [
      "../Scripts/dea_datahandling.py:237: UserWarning: Setting 'min_gooddata' percentage to > 0.0 will cause dask arrays to compute when loading pixel-quality data to calculate 'good pixel' percentage. This can slow the return of your dataset.\n",
      "  warnings.warn(\"Setting 'min_gooddata' percentage to > 0.0 \"\n"
     ]
    },
    {
     "name": "stdout",
     "output_type": "stream",
     "text": [
      "Finding datasets\n",
      "    s2a_ard_granule\n",
      "    s2b_ard_granule\n",
      "Counting good quality pixels for each time step\n",
      "Filtering to 140 out of 184 time steps with at least 90.0% good quality pixels\n",
      "Applying pixel quality/cloud mask\n",
      "Returning 140 time steps as a dask array\n",
      "<xarray.Dataset>\n",
      "Dimensions:       (time: 140, x: 559, y: 605)\n",
      "Coordinates:\n",
      "  * time          (time) datetime64[ns] 2015-11-21T02:04:12.031000 ... 2020-0...\n",
      "  * y             (y) float64 -2.565e+06 -2.565e+06 ... -2.571e+06 -2.571e+06\n",
      "  * x             (x) float64 -1.231e+06 -1.231e+06 ... -1.225e+06 -1.225e+06\n",
      "    spatial_ref   int32 3577\n",
      "Data variables:\n",
      "    nbart_blue    (time, y, x) float32 dask.array<chunksize=(1, 605, 559), meta=np.ndarray>\n",
      "    nbart_green   (time, y, x) float32 dask.array<chunksize=(1, 605, 559), meta=np.ndarray>\n",
      "    nbart_red     (time, y, x) float32 dask.array<chunksize=(1, 605, 559), meta=np.ndarray>\n",
      "    nbart_nir_1   (time, y, x) float32 dask.array<chunksize=(1, 605, 559), meta=np.ndarray>\n",
      "    nbart_swir_2  (time, y, x) float32 dask.array<chunksize=(1, 605, 559), meta=np.ndarray>\n",
      "Attributes:\n",
      "    crs:           EPSG:3577\n",
      "    grid_mapping:  spatial_ref\n"
     ]
    }
   ],
   "source": [
    "# set measurements (bands)\n",
    "measurements = [\n",
    "    'nbart_blue',\n",
    "    'nbart_green',\n",
    "    'nbart_red',\n",
    "    'nbart_nir_1',\n",
    "    'nbart_swir_2'\n",
    "]\n",
    "\n",
    "# create query from above and expected info\n",
    "query = {\n",
    "    'x': lon_extent,\n",
    "    'y': lat_extent,\n",
    "    'time': time_range,\n",
    "    'measurements': measurements,\n",
    "    'output_crs': 'EPSG:3577',\n",
    "    'resolution': (-10, 10),\n",
    "    'group_by': 'solar_day',\n",
    "}\n",
    "\n",
    "# load sentinel 2 data\n",
    "ds = load_ard(\n",
    "    dc=dc,\n",
    "    products=['s2a_ard_granule', 's2b_ard_granule'],\n",
    "    min_gooddata=0.90,\n",
    "    dask_chunks={'time': 1},\n",
    "    **query\n",
    ")\n",
    "\n",
    "# display dataset\n",
    "print(ds)"
   ]
  },
  {
   "cell_type": "markdown",
   "metadata": {},
   "source": [
    "### Conform DEA band names"
   ]
  },
  {
   "cell_type": "code",
   "execution_count": 9,
   "metadata": {},
   "outputs": [
    {
     "name": "stdout",
     "output_type": "stream",
     "text": [
      "Conforming satellite bands\n",
      "> Satellite band names conformed successfully.\n",
      "\n",
      "<xarray.Dataset>\n",
      "Dimensions:      (time: 140, x: 559, y: 605)\n",
      "Coordinates:\n",
      "  * time         (time) datetime64[ns] 2015-11-21T02:04:12.031000 ... 2020-02...\n",
      "  * y            (y) float64 -2.565e+06 -2.565e+06 ... -2.571e+06 -2.571e+06\n",
      "  * x            (x) float64 -1.231e+06 -1.231e+06 ... -1.225e+06 -1.225e+06\n",
      "    spatial_ref  int32 3577\n",
      "Data variables:\n",
      "    blue         (time, y, x) float32 dask.array<chunksize=(1, 605, 559), meta=np.ndarray>\n",
      "    green        (time, y, x) float32 dask.array<chunksize=(1, 605, 559), meta=np.ndarray>\n",
      "    red          (time, y, x) float32 dask.array<chunksize=(1, 605, 559), meta=np.ndarray>\n",
      "    nir          (time, y, x) float32 dask.array<chunksize=(1, 605, 559), meta=np.ndarray>\n",
      "    swir1        (time, y, x) float32 dask.array<chunksize=(1, 605, 559), meta=np.ndarray>\n",
      "Attributes:\n",
      "    crs:           EPSG:3577\n",
      "    grid_mapping:  spatial_ref\n"
     ]
    }
   ],
   "source": [
    "# takes our dask ds and conforms (renames) bands\n",
    "ds = phenolopy.conform_dea_band_names(ds)\n",
    "\n",
    "# display dataset\n",
    "print(ds)"
   ]
  },
  {
   "cell_type": "markdown",
   "metadata": {},
   "source": [
    "### Calculate vegetation index"
   ]
  },
  {
   "cell_type": "code",
   "execution_count": 10,
   "metadata": {},
   "outputs": [
    {
     "name": "stdout",
     "output_type": "stream",
     "text": [
      "Generating vegetation index: mavi\n",
      "> Drop bands set to True. Dropping these bands: ['blue', 'green', 'red', 'nir', 'swir1']\n",
      "> Vegetation index calculated successfully.\n",
      "\n",
      "<xarray.Dataset>\n",
      "Dimensions:      (time: 140, x: 559, y: 605)\n",
      "Coordinates:\n",
      "  * time         (time) datetime64[ns] 2015-11-21T02:04:12.031000 ... 2020-02...\n",
      "  * y            (y) float64 -2.565e+06 -2.565e+06 ... -2.571e+06 -2.571e+06\n",
      "  * x            (x) float64 -1.231e+06 -1.231e+06 ... -1.225e+06 -1.225e+06\n",
      "    spatial_ref  int32 3577\n",
      "Data variables:\n",
      "    veg_index    (time, y, x) float32 dask.array<chunksize=(1, 605, 559), meta=np.ndarray>\n",
      "Attributes:\n",
      "    crs:           EPSG:3577\n",
      "    grid_mapping:  spatial_ref\n"
     ]
    }
   ],
   "source": [
    "# takes our dask ds and calculates veg index from spectral bands\n",
    "ds = phenolopy.calc_vege_index(ds, index='mavi', drop=True)\n",
    "\n",
    "# display dataset\n",
    "print(ds)"
   ]
  },
  {
   "cell_type": "markdown",
   "metadata": {},
   "source": [
    "## Pre-processing phase"
   ]
  },
  {
   "cell_type": "markdown",
   "metadata": {},
   "source": [
    "### Group data by month and reduce by median"
   ]
  },
  {
   "cell_type": "code",
   "execution_count": 11,
   "metadata": {},
   "outputs": [
    {
     "name": "stdout",
     "output_type": "stream",
     "text": [
      "Group dataset interval: month via reducer: median\n",
      "> Selecting year: 2018 to re-label times after groupby.\n",
      "> Warning: dataset contains nan values. You should interpolate nan values next.\n",
      "> Group successful.\n",
      "\n",
      "<xarray.Dataset>\n",
      "Dimensions:      (time: 12, x: 559, y: 605)\n",
      "Coordinates:\n",
      "  * y            (y) float64 -2.565e+06 -2.565e+06 ... -2.571e+06 -2.571e+06\n",
      "  * x            (x) float64 -1.231e+06 -1.231e+06 ... -1.225e+06 -1.225e+06\n",
      "    spatial_ref  int32 3577\n",
      "  * time         (time) datetime64[ns] 2018-01-01 2018-02-01 ... 2018-12-01\n",
      "Data variables:\n",
      "    veg_index    (time, y, x) float32 dask.array<chunksize=(1, 605, 559), meta=np.ndarray>\n"
     ]
    }
   ],
   "source": [
    "# take our dask ds and group and reduce dataset in median weeks (26 for one year)\n",
    "ds = phenolopy.group(ds, group_by='month', reducer='median')\n",
    "\n",
    "# display dataset\n",
    "print(ds)"
   ]
  },
  {
   "cell_type": "markdown",
   "metadata": {},
   "source": [
    "### Remove outliers from dataset on per-pixel basis"
   ]
  },
  {
   "cell_type": "code",
   "execution_count": 12,
   "metadata": {},
   "outputs": [
    {
     "name": "stdout",
     "output_type": "stream",
     "text": [
      "Outlier removal method: median with a user factor of: 2\n",
      "> Generated roll window size less than 3, setting to default (3).\n",
      "> Warning: dataset contains nan values. You may want to interpolate next.\n",
      "> Outlier removal successful.\n",
      "\n",
      "<xarray.Dataset>\n",
      "Dimensions:      (time: 12, x: 559, y: 605)\n",
      "Coordinates:\n",
      "  * y            (y) float64 -2.565e+06 -2.565e+06 ... -2.571e+06 -2.571e+06\n",
      "  * x            (x) float64 -1.231e+06 -1.231e+06 ... -1.225e+06 -1.225e+06\n",
      "    spatial_ref  int32 3577\n",
      "  * time         (time) datetime64[ns] 2018-01-01 2018-02-01 ... 2018-12-01\n",
      "Data variables:\n",
      "    veg_index    (time, y, x) float32 dask.array<chunksize=(12, 605, 559), meta=np.ndarray>\n"
     ]
    }
   ],
   "source": [
    "# chunk dask to -1 to make compatible with this function\n",
    "ds = ds.chunk({'time': -1})\n",
    "\n",
    "# takes our dask ds and remove outliers from data using median method\n",
    "ds = phenolopy.remove_outliers(ds=ds, method='median', user_factor=2, z_pval=0.05)\n",
    "\n",
    "# display dataset\n",
    "print(ds)"
   ]
  },
  {
   "cell_type": "markdown",
   "metadata": {},
   "source": [
    "### Resample dataset down to bi-monthly medians"
   ]
  },
  {
   "cell_type": "code",
   "execution_count": 13,
   "metadata": {},
   "outputs": [
    {
     "name": "stdout",
     "output_type": "stream",
     "text": [
      "Resampling dataset interval: 1W via reducer: median\n",
      "> Warning: dataset contains nan values. You should interpolate nan values next.\n",
      "> Resample successful.\n",
      "\n",
      "<xarray.Dataset>\n",
      "Dimensions:      (time: 48, x: 559, y: 605)\n",
      "Coordinates:\n",
      "  * time         (time) datetime64[ns] 2018-01-07 2018-01-14 ... 2018-12-02\n",
      "  * y            (y) float64 -2.565e+06 -2.565e+06 ... -2.571e+06 -2.571e+06\n",
      "  * x            (x) float64 -1.231e+06 -1.231e+06 ... -1.225e+06 -1.225e+06\n",
      "    spatial_ref  int32 3577\n",
      "Data variables:\n",
      "    veg_index    (time, y, x) float32 dask.array<chunksize=(4, 605, 559), meta=np.ndarray>\n"
     ]
    }
   ],
   "source": [
    "# takes our dask ds and resamples data to bi-monthly medians\n",
    "ds = phenolopy.resample(ds, interval='1W', reducer='median')\n",
    "\n",
    "# display dataset\n",
    "print(ds)"
   ]
  },
  {
   "cell_type": "markdown",
   "metadata": {},
   "source": [
    "### Interpolate missing (i.e. nan) values linearly"
   ]
  },
  {
   "cell_type": "code",
   "execution_count": 14,
   "metadata": {},
   "outputs": [
    {
     "name": "stdout",
     "output_type": "stream",
     "text": [
      "Interpolating dataset using method: interpolate_na.\n",
      "> Warning: dataset still contains nan values. The first and/or last time slices may be empty.\n",
      "> Interpolation successful.\n",
      "\n",
      "<xarray.Dataset>\n",
      "Dimensions:      (time: 48, x: 559, y: 605)\n",
      "Coordinates:\n",
      "    spatial_ref  int32 3577\n",
      "  * time         (time) datetime64[ns] 2018-01-07 2018-01-14 ... 2018-12-02\n",
      "  * y            (y) float64 -2.565e+06 -2.565e+06 ... -2.571e+06 -2.571e+06\n",
      "  * x            (x) float64 -1.231e+06 -1.231e+06 ... -1.225e+06 -1.225e+06\n",
      "Data variables:\n",
      "    veg_index    (time, y, x) float32 dask.array<chunksize=(48, 605, 559), meta=np.ndarray>\n"
     ]
    }
   ],
   "source": [
    "# chunk dask to -1 to make compatible with this function\n",
    "ds = ds.chunk({'time': -1})\n",
    "\n",
    "# takes our dask ds and interpolates missing values\n",
    "ds = phenolopy.interpolate(ds=ds, method='interpolate_na')\n",
    "\n",
    "# display dataset\n",
    "print(ds)"
   ]
  },
  {
   "cell_type": "markdown",
   "metadata": {},
   "source": [
    "### Smooth data on per-pixel basis"
   ]
  },
  {
   "cell_type": "code",
   "execution_count": 15,
   "metadata": {},
   "outputs": [
    {
     "name": "stdout",
     "output_type": "stream",
     "text": [
      "Smoothing method: savitsky with window length: 3 and polyorder: 1.\n",
      "> Warning: dataset contains nan values. You may want to interpolate next.\n",
      "> Smoothing successful.\n",
      "\n",
      "<xarray.Dataset>\n",
      "Dimensions:      (time: 48, x: 559, y: 605)\n",
      "Coordinates:\n",
      "  * time         (time) datetime64[ns] 2018-01-07 2018-01-14 ... 2018-12-02\n",
      "  * y            (y) float64 -2.565e+06 -2.565e+06 ... -2.571e+06 -2.571e+06\n",
      "  * x            (x) float64 -1.231e+06 -1.231e+06 ... -1.225e+06 -1.225e+06\n",
      "    spatial_ref  int32 dask.array<chunksize=(), meta=np.ndarray>\n",
      "Data variables:\n",
      "    veg_index    (time, y, x) float32 dask.array<chunksize=(48, 605, 559), meta=np.ndarray>\n"
     ]
    }
   ],
   "source": [
    "# chunk dask to -1 to make compatible with this function\n",
    "ds = ds.chunk({'time': -1})\n",
    "\n",
    "# take our dask ds and smooth using savitsky golay filter\n",
    "ds = phenolopy.smooth(ds=ds, method='savitsky', window_length=3, polyorder=1)\n",
    "\n",
    "# display dataset\n",
    "print(ds)"
   ]
  },
  {
   "cell_type": "markdown",
   "metadata": {},
   "source": [
    "### Calculate number of seasons "
   ]
  },
  {
   "cell_type": "code",
   "execution_count": 16,
   "metadata": {},
   "outputs": [
    {
     "name": "stdout",
     "output_type": "stream",
     "text": [
      "Beginning calculation of number of seasons.\n",
      "> Calculating number of seasons.\n",
      "> Success!\n",
      "\n",
      "<xarray.DataArray 'num_seasons' (y: 605, x: 559)>\n",
      "dask.array<transpose, shape=(605, 559), dtype=int16, chunksize=(605, 559), chunktype=numpy.ndarray>\n",
      "Coordinates:\n",
      "  * y            (y) float64 -2.565e+06 -2.565e+06 ... -2.571e+06 -2.571e+06\n",
      "  * x            (x) float64 -1.231e+06 -1.231e+06 ... -1.225e+06 -1.225e+06\n",
      "    spatial_ref  int32 dask.array<chunksize=(), meta=np.ndarray>\n"
     ]
    }
   ],
   "source": [
    "# chunk dask to -1 to make compatible with this function\n",
    "ds = ds.chunk({'time': -1})\n",
    "\n",
    "# take our dask ds and smooth using savitsky golay filter\n",
    "da_num_seasons = phenolopy.calc_num_seasons(ds=ds)\n",
    "\n",
    "# display dataset\n",
    "print(da_num_seasons)"
   ]
  },
  {
   "cell_type": "markdown",
   "metadata": {},
   "source": [
    "## Calculate Phenometrics"
   ]
  },
  {
   "cell_type": "code",
   "execution_count": 17,
   "metadata": {},
   "outputs": [
    {
     "name": "stdout",
     "output_type": "stream",
     "text": [
      "<xarray.Dataset>\n",
      "Dimensions:      (time: 48, x: 559, y: 605)\n",
      "Coordinates:\n",
      "  * time         (time) datetime64[ns] 2018-01-07 2018-01-14 ... 2018-12-02\n",
      "  * y            (y) float64 -2.565e+06 -2.565e+06 ... -2.571e+06 -2.571e+06\n",
      "  * x            (x) float64 -1.231e+06 -1.231e+06 ... -1.225e+06 -1.225e+06\n",
      "    spatial_ref  int32 3577\n",
      "Data variables:\n",
      "    veg_index    (time, y, x) float32 0.10106007 0.112709396 ... 0.08980583\n"
     ]
    }
   ],
   "source": [
    "# compute\n",
    "ds = ds.compute()\n",
    "print(ds)"
   ]
  },
  {
   "cell_type": "code",
   "execution_count": null,
   "metadata": {},
   "outputs": [],
   "source": [
    "# calc phenometrics via phenolopy!\n",
    "ds_phenos = phenolopy.calc_phenometrics(da=ds['veg_index'], peak_metric='pos', base_metric='vos', method='seasonal_amplitude', factor=0.2, thresh_sides='two_sided', abs_value=0.1)"
   ]
  },
  {
   "cell_type": "markdown",
   "metadata": {},
   "source": [
    "## Display phenometric"
   ]
  },
  {
   "cell_type": "code",
   "execution_count": null,
   "metadata": {},
   "outputs": [],
   "source": [
    "# set the metric you want to view (e.g. pos_values, pos_times, vos_values, vos_times, ect.)\n",
    "metric_name = 'vos_values'\n",
    "\n",
    "# plot this on map\n",
    "ds_phenos[metric_name].plot(robust=True, cmap='terrain_r')"
   ]
  }
 ],
 "metadata": {
  "kernelspec": {
   "display_name": "Python 3",
   "language": "python",
   "name": "python3"
  },
  "language_info": {
   "codemirror_mode": {
    "name": "ipython",
    "version": 3
   },
   "file_extension": ".py",
   "mimetype": "text/x-python",
   "name": "python",
   "nbconvert_exporter": "python",
   "pygments_lexer": "ipython3",
   "version": "3.6.9"
  }
 },
 "nbformat": 4,
 "nbformat_minor": 4
}
